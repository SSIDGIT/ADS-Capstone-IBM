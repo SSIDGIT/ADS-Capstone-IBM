{
 "cells": [
  {
   "cell_type": "markdown",
   "metadata": {},
   "source": [
    "<p style=\"text-align:center\">\n",
    "    <a href=\"https://skills.network\" target=\"_blank\">\n",
    "    <img src=\"https://cf-courses-data.s3.us.cloud-object-storage.appdomain.cloud/assets/logos/SN_web_lightmode.png\" width=\"200\" alt=\"Skills Network Logo\">\n",
    "    </a>\n",
    "</p>\n",
    "\n",
    "<h1 align=center><font size = 5>Assignment: SQL Notebook for Peer Assignment</font></h1>\n",
    "\n",
    "Estimated time needed: **60** minutes.\n",
    "\n",
    "## Introduction\n",
    "Using this Python notebook you will:\n",
    "\n",
    "1.  Understand the Spacex DataSet\n",
    "2.  Load the dataset  into the corresponding table in a Db2 database\n",
    "3.  Execute SQL queries to answer assignment questions \n"
   ]
  },
  {
   "cell_type": "markdown",
   "metadata": {},
   "source": [
    "## Overview of the DataSet\n",
    "\n",
    "SpaceX has gained worldwide attention for a series of historic milestones. \n",
    "\n",
    "It is the only private company ever to return a spacecraft from low-earth orbit, which it first accomplished in December 2010.\n",
    "SpaceX advertises Falcon 9 rocket launches on its website with a cost of 62 million dollars wheras other providers cost upward of 165 million dollars each, much of the savings is because Space X can reuse the first stage. \n",
    "\n",
    "\n",
    "Therefore if we can determine if the first stage will land, we can determine the cost of a launch. \n",
    "\n",
    "This information can be used if an alternate company wants to bid against SpaceX for a rocket launch.\n",
    "\n",
    "This dataset includes a record for each payload carried during a SpaceX mission into outer space.\n"
   ]
  },
  {
   "cell_type": "markdown",
   "metadata": {},
   "source": [
    "### Download the datasets\n",
    "\n",
    "This assignment requires you to load the spacex dataset.\n",
    "\n",
    "In many cases the dataset to be analyzed is available as a .CSV (comma separated values) file, perhaps on the internet. Click on the link below to download and save the dataset (.CSV file):\n",
    "\n",
    " <a href=\"https://cf-courses-data.s3.us.cloud-object-storage.appdomain.cloud/IBM-DS0321EN-SkillsNetwork/labs/module_2/data/Spacex.csv\" target=\"_blank\">Spacex DataSet</a>\n",
    "\n"
   ]
  },
  {
   "cell_type": "code",
   "execution_count": 1,
   "metadata": {
    "tags": []
   },
   "outputs": [
    {
     "name": "stdout",
     "output_type": "stream",
     "text": [
      "Collecting sqlalchemy==1.3.9\n",
      "  Downloading SQLAlchemy-1.3.9.tar.gz (6.0 MB)\n",
      "\u001b[2K     \u001b[90m━━━━━━━━━━━━━━━━━━━━━━━━━━━━━━━━━━━━━━━━\u001b[0m \u001b[32m6.0/6.0 MB\u001b[0m \u001b[31m57.7 MB/s\u001b[0m eta \u001b[36m0:00:00\u001b[0ma \u001b[36m0:00:01\u001b[0m\n",
      "\u001b[?25h  Preparing metadata (setup.py) ... \u001b[?25ldone\n",
      "\u001b[?25hBuilding wheels for collected packages: sqlalchemy\n",
      "  Building wheel for sqlalchemy (setup.py) ... \u001b[?25ldone\n",
      "\u001b[?25h  Created wheel for sqlalchemy: filename=SQLAlchemy-1.3.9-cp37-cp37m-linux_x86_64.whl size=1159121 sha256=bac554b2c0a234eb1685b227ff70b8b55901ca7d9c0a7bb5b506dd19af4ebb19\n",
      "  Stored in directory: /home/jupyterlab/.cache/pip/wheels/03/71/13/010faf12246f72dc76b4150e6e599d13a85b4435e06fb9e51f\n",
      "Successfully built sqlalchemy\n",
      "Installing collected packages: sqlalchemy\n",
      "  Attempting uninstall: sqlalchemy\n",
      "    Found existing installation: SQLAlchemy 1.3.24\n",
      "    Uninstalling SQLAlchemy-1.3.24:\n",
      "      Successfully uninstalled SQLAlchemy-1.3.24\n",
      "Successfully installed sqlalchemy-1.3.9\n"
     ]
    }
   ],
   "source": [
    "!pip install sqlalchemy==1.3.9\n"
   ]
  },
  {
   "cell_type": "markdown",
   "metadata": {},
   "source": [
    "### Connect to the database\n",
    "\n",
    "Let us first load the SQL extension and establish a connection with the database\n"
   ]
  },
  {
   "cell_type": "code",
   "execution_count": 3,
   "metadata": {
    "tags": []
   },
   "outputs": [
    {
     "name": "stdout",
     "output_type": "stream",
     "text": [
      "The sql extension is already loaded. To reload it, use:\n",
      "  %reload_ext sql\n"
     ]
    }
   ],
   "source": [
    "%load_ext sql"
   ]
  },
  {
   "cell_type": "code",
   "execution_count": 4,
   "metadata": {
    "tags": []
   },
   "outputs": [],
   "source": [
    "import csv, sqlite3\n",
    "\n",
    "con = sqlite3.connect(\"my_data1.db\")\n",
    "cur = con.cursor()"
   ]
  },
  {
   "cell_type": "code",
   "execution_count": 5,
   "metadata": {
    "tags": []
   },
   "outputs": [],
   "source": [
    "!pip install -q pandas==1.1.5"
   ]
  },
  {
   "cell_type": "code",
   "execution_count": 6,
   "metadata": {
    "tags": []
   },
   "outputs": [
    {
     "data": {
      "text/plain": [
       "'Connected: @my_data1.db'"
      ]
     },
     "execution_count": 6,
     "metadata": {},
     "output_type": "execute_result"
    }
   ],
   "source": [
    "%sql sqlite:///my_data1.db"
   ]
  },
  {
   "cell_type": "code",
   "execution_count": 7,
   "metadata": {
    "tags": []
   },
   "outputs": [
    {
     "name": "stderr",
     "output_type": "stream",
     "text": [
      "/home/jupyterlab/conda/envs/python/lib/python3.7/site-packages/pandas/core/generic.py:2882: UserWarning: The spaces in these column names will not be changed. In pandas versions < 0.14, spaces were converted to underscores.\n",
      "  both result in 0.1234 being formatted as 0.12.\n"
     ]
    }
   ],
   "source": [
    "import pandas as pd\n",
    "df = pd.read_csv(\"https://cf-courses-data.s3.us.cloud-object-storage.appdomain.cloud/IBM-DS0321EN-SkillsNetwork/labs/module_2/data/Spacex.csv\")\n",
    "df.to_sql(\"SPACEXTBL\", con, if_exists='replace', index=False,method=\"multi\")"
   ]
  },
  {
   "cell_type": "markdown",
   "metadata": {},
   "source": [
    "**Note:This below code is added to remove blank rows from table**\n"
   ]
  },
  {
   "cell_type": "code",
   "execution_count": 8,
   "metadata": {
    "tags": []
   },
   "outputs": [
    {
     "name": "stdout",
     "output_type": "stream",
     "text": [
      " * sqlite:///my_data1.db\n",
      "Done.\n"
     ]
    },
    {
     "data": {
      "text/plain": [
       "[]"
      ]
     },
     "execution_count": 8,
     "metadata": {},
     "output_type": "execute_result"
    }
   ],
   "source": [
    "%sql create table SPACEXTABLE as select * from SPACEXTBL where Date is not null"
   ]
  },
  {
   "cell_type": "markdown",
   "metadata": {},
   "source": [
    "## Tasks\n",
    "\n",
    "Now write and execute SQL queries to solve the assignment tasks.\n",
    "\n",
    "**Note: If the column names are in mixed case enclose it in double quotes\n",
    "   For Example \"Landing_Outcome\"**\n",
    "\n",
    "### Task 1\n",
    "\n",
    "\n",
    "\n",
    "\n",
    "##### Display the names of the unique launch sites  in the space mission\n"
   ]
  },
  {
   "cell_type": "code",
   "execution_count": 10,
   "metadata": {
    "tags": []
   },
   "outputs": [
    {
     "name": "stdout",
     "output_type": "stream",
     "text": [
      " * sqlite:///my_data1.db\n",
      "Done.\n"
     ]
    },
    {
     "data": {
      "text/html": [
       "<table>\n",
       "    <thead>\n",
       "        <tr>\n",
       "            <th>Launch_Site</th>\n",
       "        </tr>\n",
       "    </thead>\n",
       "    <tbody>\n",
       "        <tr>\n",
       "            <td>CCAFS LC-40</td>\n",
       "        </tr>\n",
       "        <tr>\n",
       "            <td>VAFB SLC-4E</td>\n",
       "        </tr>\n",
       "        <tr>\n",
       "            <td>KSC LC-39A</td>\n",
       "        </tr>\n",
       "        <tr>\n",
       "            <td>CCAFS SLC-40</td>\n",
       "        </tr>\n",
       "    </tbody>\n",
       "</table>"
      ],
      "text/plain": [
       "[('CCAFS LC-40',), ('VAFB SLC-4E',), ('KSC LC-39A',), ('CCAFS SLC-40',)]"
      ]
     },
     "execution_count": 10,
     "metadata": {},
     "output_type": "execute_result"
    }
   ],
   "source": [
    "%sql SELECT DISTINCT Launch_Site FROM SPACEXTABLE;\n"
   ]
  },
  {
   "cell_type": "markdown",
   "metadata": {},
   "source": [
    "\n",
    "### Task 2\n",
    "\n",
    "\n",
    "#####  Display 5 records where launch sites begin with the string 'CCA' \n"
   ]
  },
  {
   "cell_type": "code",
   "execution_count": 12,
   "metadata": {
    "tags": []
   },
   "outputs": [
    {
     "name": "stdout",
     "output_type": "stream",
     "text": [
      " * sqlite:///my_data1.db\n",
      "Done.\n"
     ]
    },
    {
     "data": {
      "text/html": [
       "<table>\n",
       "    <thead>\n",
       "        <tr>\n",
       "            <th>Date</th>\n",
       "            <th>Time (UTC)</th>\n",
       "            <th>Booster_Version</th>\n",
       "            <th>Launch_Site</th>\n",
       "            <th>Payload</th>\n",
       "            <th>PAYLOAD_MASS__KG_</th>\n",
       "            <th>Orbit</th>\n",
       "            <th>Customer</th>\n",
       "            <th>Mission_Outcome</th>\n",
       "            <th>Landing_Outcome</th>\n",
       "        </tr>\n",
       "    </thead>\n",
       "    <tbody>\n",
       "        <tr>\n",
       "            <td>2010-04-06</td>\n",
       "            <td>18:45:00</td>\n",
       "            <td>F9 v1.0  B0003</td>\n",
       "            <td>CCAFS LC-40</td>\n",
       "            <td>Dragon Spacecraft Qualification Unit</td>\n",
       "            <td>0</td>\n",
       "            <td>LEO</td>\n",
       "            <td>SpaceX</td>\n",
       "            <td>Success</td>\n",
       "            <td>Failure (parachute)</td>\n",
       "        </tr>\n",
       "        <tr>\n",
       "            <td>2010-08-12</td>\n",
       "            <td>15:43:00</td>\n",
       "            <td>F9 v1.0  B0004</td>\n",
       "            <td>CCAFS LC-40</td>\n",
       "            <td>Dragon demo flight C1, two CubeSats, barrel of Brouere cheese</td>\n",
       "            <td>0</td>\n",
       "            <td>LEO (ISS)</td>\n",
       "            <td>NASA (COTS) NRO</td>\n",
       "            <td>Success</td>\n",
       "            <td>Failure (parachute)</td>\n",
       "        </tr>\n",
       "        <tr>\n",
       "            <td>2012-05-22</td>\n",
       "            <td>07:44:00</td>\n",
       "            <td>F9 v1.0  B0005</td>\n",
       "            <td>CCAFS LC-40</td>\n",
       "            <td>Dragon demo flight C2</td>\n",
       "            <td>525</td>\n",
       "            <td>LEO (ISS)</td>\n",
       "            <td>NASA (COTS)</td>\n",
       "            <td>Success</td>\n",
       "            <td>No attempt</td>\n",
       "        </tr>\n",
       "        <tr>\n",
       "            <td>2012-08-10</td>\n",
       "            <td>00:35:00</td>\n",
       "            <td>F9 v1.0  B0006</td>\n",
       "            <td>CCAFS LC-40</td>\n",
       "            <td>SpaceX CRS-1</td>\n",
       "            <td>500</td>\n",
       "            <td>LEO (ISS)</td>\n",
       "            <td>NASA (CRS)</td>\n",
       "            <td>Success</td>\n",
       "            <td>No attempt</td>\n",
       "        </tr>\n",
       "        <tr>\n",
       "            <td>2013-01-03</td>\n",
       "            <td>15:10:00</td>\n",
       "            <td>F9 v1.0  B0007</td>\n",
       "            <td>CCAFS LC-40</td>\n",
       "            <td>SpaceX CRS-2</td>\n",
       "            <td>677</td>\n",
       "            <td>LEO (ISS)</td>\n",
       "            <td>NASA (CRS)</td>\n",
       "            <td>Success</td>\n",
       "            <td>No attempt</td>\n",
       "        </tr>\n",
       "    </tbody>\n",
       "</table>"
      ],
      "text/plain": [
       "[('2010-04-06', '18:45:00', 'F9 v1.0  B0003', 'CCAFS LC-40', 'Dragon Spacecraft Qualification Unit', 0, 'LEO', 'SpaceX', 'Success', 'Failure (parachute)'),\n",
       " ('2010-08-12', '15:43:00', 'F9 v1.0  B0004', 'CCAFS LC-40', 'Dragon demo flight C1, two CubeSats, barrel of Brouere cheese', 0, 'LEO (ISS)', 'NASA (COTS) NRO', 'Success', 'Failure (parachute)'),\n",
       " ('2012-05-22', '07:44:00', 'F9 v1.0  B0005', 'CCAFS LC-40', 'Dragon demo flight C2', 525, 'LEO (ISS)', 'NASA (COTS)', 'Success', 'No attempt'),\n",
       " ('2012-08-10', '00:35:00', 'F9 v1.0  B0006', 'CCAFS LC-40', 'SpaceX CRS-1', 500, 'LEO (ISS)', 'NASA (CRS)', 'Success', 'No attempt'),\n",
       " ('2013-01-03', '15:10:00', 'F9 v1.0  B0007', 'CCAFS LC-40', 'SpaceX CRS-2', 677, 'LEO (ISS)', 'NASA (CRS)', 'Success', 'No attempt')]"
      ]
     },
     "execution_count": 12,
     "metadata": {},
     "output_type": "execute_result"
    }
   ],
   "source": [
    "%sql SELECT * FROM SPACEXTABLE WHERE Launch_Site LIKE 'CCA%' LIMIT 5;\n"
   ]
  },
  {
   "cell_type": "markdown",
   "metadata": {},
   "source": [
    "### Task 3\n",
    "\n",
    "\n",
    "\n",
    "\n",
    "##### Display the total payload mass carried by boosters launched by NASA (CRS)\n"
   ]
  },
  {
   "cell_type": "code",
   "execution_count": 15,
   "metadata": {
    "tags": []
   },
   "outputs": [
    {
     "name": "stdout",
     "output_type": "stream",
     "text": [
      " * sqlite:///my_data1.db\n",
      "Done.\n"
     ]
    },
    {
     "data": {
      "text/html": [
       "<table>\n",
       "    <thead>\n",
       "        <tr>\n",
       "            <th>Total_Payload_Mass</th>\n",
       "        </tr>\n",
       "    </thead>\n",
       "    <tbody>\n",
       "        <tr>\n",
       "            <td>0.0</td>\n",
       "        </tr>\n",
       "    </tbody>\n",
       "</table>"
      ],
      "text/plain": [
       "[(0.0,)]"
      ]
     },
     "execution_count": 15,
     "metadata": {},
     "output_type": "execute_result"
    }
   ],
   "source": [
    "%sql SELECT SUM(\"Payload Mass (kg)\") AS Total_Payload_Mass FROM SPACEXTABLE WHERE \"Customer\" LIKE 'NASA (CRS)';\n",
    "\n",
    "\n"
   ]
  },
  {
   "cell_type": "markdown",
   "metadata": {},
   "source": [
    "### Task 4\n",
    "\n",
    "\n",
    "\n",
    "\n",
    "##### Display average payload mass carried by booster version F9 v1.1\n"
   ]
  },
  {
   "cell_type": "code",
   "execution_count": 16,
   "metadata": {
    "tags": []
   },
   "outputs": [
    {
     "name": "stdout",
     "output_type": "stream",
     "text": [
      " * sqlite:///my_data1.db\n",
      "Done.\n"
     ]
    },
    {
     "data": {
      "text/html": [
       "<table>\n",
       "    <thead>\n",
       "        <tr>\n",
       "            <th>Average_Payload_Mass</th>\n",
       "        </tr>\n",
       "    </thead>\n",
       "    <tbody>\n",
       "        <tr>\n",
       "            <td>None</td>\n",
       "        </tr>\n",
       "    </tbody>\n",
       "</table>"
      ],
      "text/plain": [
       "[(None,)]"
      ]
     },
     "execution_count": 16,
     "metadata": {},
     "output_type": "execute_result"
    }
   ],
   "source": [
    "%sql SELECT AVG(\"Payload Mass (kg)\") AS Average_Payload_Mass FROM SPACEXTABLE WHERE \"Booster Version\" = 'F9 v1.1';\n"
   ]
  },
  {
   "cell_type": "markdown",
   "metadata": {},
   "source": [
    "### Task 5\n",
    "\n",
    "##### List the date when the first succesful landing outcome in ground pad was acheived.\n",
    "\n",
    "\n",
    "_Hint:Use min function_ \n"
   ]
  },
  {
   "cell_type": "code",
   "execution_count": 18,
   "metadata": {
    "tags": []
   },
   "outputs": [
    {
     "name": "stdout",
     "output_type": "stream",
     "text": [
      " * sqlite:///my_data1.db\n",
      "Done.\n"
     ]
    },
    {
     "data": {
      "text/html": [
       "<table>\n",
       "    <thead>\n",
       "        <tr>\n",
       "            <th>First_Successful_Landing_On_Ground_Pad</th>\n",
       "        </tr>\n",
       "    </thead>\n",
       "    <tbody>\n",
       "        <tr>\n",
       "            <td>None</td>\n",
       "        </tr>\n",
       "    </tbody>\n",
       "</table>"
      ],
      "text/plain": [
       "[(None,)]"
      ]
     },
     "execution_count": 18,
     "metadata": {},
     "output_type": "execute_result"
    }
   ],
   "source": [
    "%sql SELECT MIN(Date) AS First_Successful_Landing_On_Ground_Pad FROM SPACEXTABLE WHERE \"Landing Outcome\" = 'Success (ground pad)';\n"
   ]
  },
  {
   "cell_type": "markdown",
   "metadata": {},
   "source": [
    "### Task 6\n",
    "\n",
    "##### List the names of the boosters which have success in drone ship and have payload mass greater than 4000 but less than 6000\n"
   ]
  },
  {
   "cell_type": "code",
   "execution_count": 19,
   "metadata": {
    "tags": []
   },
   "outputs": [
    {
     "name": "stdout",
     "output_type": "stream",
     "text": [
      " * sqlite:///my_data1.db\n",
      "Done.\n"
     ]
    },
    {
     "data": {
      "text/html": [
       "<table>\n",
       "    <thead>\n",
       "        <tr>\n",
       "            <th>Booster_Names</th>\n",
       "        </tr>\n",
       "    </thead>\n",
       "    <tbody>\n",
       "    </tbody>\n",
       "</table>"
      ],
      "text/plain": [
       "[]"
      ]
     },
     "execution_count": 19,
     "metadata": {},
     "output_type": "execute_result"
    }
   ],
   "source": [
    "%%sql SELECT \"Booster Version\" AS Booster_Names\n",
    "FROM SPACEXTABLE\n",
    "WHERE \"Landing Outcome\" = 'Success (drone ship)'\n",
    "    AND \"Payload Mass (kg)\" > 4000 AND \"Payload Mass (kg)\" < 6000;\n"
   ]
  },
  {
   "cell_type": "markdown",
   "metadata": {},
   "source": [
    "### Task 7\n",
    "\n",
    "\n",
    "\n",
    "\n",
    "##### List the total number of successful and failure mission outcomes\n"
   ]
  },
  {
   "cell_type": "code",
   "execution_count": 20,
   "metadata": {
    "tags": []
   },
   "outputs": [
    {
     "name": "stdout",
     "output_type": "stream",
     "text": [
      " * sqlite:///my_data1.db\n",
      "Done.\n"
     ]
    },
    {
     "data": {
      "text/html": [
       "<table>\n",
       "    <thead>\n",
       "        <tr>\n",
       "            <th>Mission_Outcome</th>\n",
       "            <th>Total_Count</th>\n",
       "        </tr>\n",
       "    </thead>\n",
       "    <tbody>\n",
       "        <tr>\n",
       "            <td>Landing Outcome</td>\n",
       "            <td>101</td>\n",
       "        </tr>\n",
       "    </tbody>\n",
       "</table>"
      ],
      "text/plain": [
       "[('Landing Outcome', 101)]"
      ]
     },
     "execution_count": 20,
     "metadata": {},
     "output_type": "execute_result"
    }
   ],
   "source": [
    "%%sql SELECT \"Landing Outcome\" AS Mission_Outcome, COUNT(*) AS Total_Count\n",
    "FROM SPACEXTABLE\n",
    "GROUP BY \"Landing Outcome\";\n"
   ]
  },
  {
   "cell_type": "markdown",
   "metadata": {},
   "source": [
    "### Task 8\n",
    "\n",
    "\n",
    "\n",
    "##### List the   names of the booster_versions which have carried the maximum payload mass. Use a subquery\n"
   ]
  },
  {
   "cell_type": "code",
   "execution_count": 21,
   "metadata": {
    "tags": []
   },
   "outputs": [
    {
     "name": "stdout",
     "output_type": "stream",
     "text": [
      " * sqlite:///my_data1.db\n",
      "Done.\n"
     ]
    },
    {
     "data": {
      "text/html": [
       "<table>\n",
       "    <thead>\n",
       "        <tr>\n",
       "            <th>Booster_Names</th>\n",
       "        </tr>\n",
       "    </thead>\n",
       "    <tbody>\n",
       "        <tr>\n",
       "            <td>Booster Version</td>\n",
       "        </tr>\n",
       "        <tr>\n",
       "            <td>Booster Version</td>\n",
       "        </tr>\n",
       "        <tr>\n",
       "            <td>Booster Version</td>\n",
       "        </tr>\n",
       "        <tr>\n",
       "            <td>Booster Version</td>\n",
       "        </tr>\n",
       "        <tr>\n",
       "            <td>Booster Version</td>\n",
       "        </tr>\n",
       "        <tr>\n",
       "            <td>Booster Version</td>\n",
       "        </tr>\n",
       "        <tr>\n",
       "            <td>Booster Version</td>\n",
       "        </tr>\n",
       "        <tr>\n",
       "            <td>Booster Version</td>\n",
       "        </tr>\n",
       "        <tr>\n",
       "            <td>Booster Version</td>\n",
       "        </tr>\n",
       "        <tr>\n",
       "            <td>Booster Version</td>\n",
       "        </tr>\n",
       "        <tr>\n",
       "            <td>Booster Version</td>\n",
       "        </tr>\n",
       "        <tr>\n",
       "            <td>Booster Version</td>\n",
       "        </tr>\n",
       "        <tr>\n",
       "            <td>Booster Version</td>\n",
       "        </tr>\n",
       "        <tr>\n",
       "            <td>Booster Version</td>\n",
       "        </tr>\n",
       "        <tr>\n",
       "            <td>Booster Version</td>\n",
       "        </tr>\n",
       "        <tr>\n",
       "            <td>Booster Version</td>\n",
       "        </tr>\n",
       "        <tr>\n",
       "            <td>Booster Version</td>\n",
       "        </tr>\n",
       "        <tr>\n",
       "            <td>Booster Version</td>\n",
       "        </tr>\n",
       "        <tr>\n",
       "            <td>Booster Version</td>\n",
       "        </tr>\n",
       "        <tr>\n",
       "            <td>Booster Version</td>\n",
       "        </tr>\n",
       "        <tr>\n",
       "            <td>Booster Version</td>\n",
       "        </tr>\n",
       "        <tr>\n",
       "            <td>Booster Version</td>\n",
       "        </tr>\n",
       "        <tr>\n",
       "            <td>Booster Version</td>\n",
       "        </tr>\n",
       "        <tr>\n",
       "            <td>Booster Version</td>\n",
       "        </tr>\n",
       "        <tr>\n",
       "            <td>Booster Version</td>\n",
       "        </tr>\n",
       "        <tr>\n",
       "            <td>Booster Version</td>\n",
       "        </tr>\n",
       "        <tr>\n",
       "            <td>Booster Version</td>\n",
       "        </tr>\n",
       "        <tr>\n",
       "            <td>Booster Version</td>\n",
       "        </tr>\n",
       "        <tr>\n",
       "            <td>Booster Version</td>\n",
       "        </tr>\n",
       "        <tr>\n",
       "            <td>Booster Version</td>\n",
       "        </tr>\n",
       "        <tr>\n",
       "            <td>Booster Version</td>\n",
       "        </tr>\n",
       "        <tr>\n",
       "            <td>Booster Version</td>\n",
       "        </tr>\n",
       "        <tr>\n",
       "            <td>Booster Version</td>\n",
       "        </tr>\n",
       "        <tr>\n",
       "            <td>Booster Version</td>\n",
       "        </tr>\n",
       "        <tr>\n",
       "            <td>Booster Version</td>\n",
       "        </tr>\n",
       "        <tr>\n",
       "            <td>Booster Version</td>\n",
       "        </tr>\n",
       "        <tr>\n",
       "            <td>Booster Version</td>\n",
       "        </tr>\n",
       "        <tr>\n",
       "            <td>Booster Version</td>\n",
       "        </tr>\n",
       "        <tr>\n",
       "            <td>Booster Version</td>\n",
       "        </tr>\n",
       "        <tr>\n",
       "            <td>Booster Version</td>\n",
       "        </tr>\n",
       "        <tr>\n",
       "            <td>Booster Version</td>\n",
       "        </tr>\n",
       "        <tr>\n",
       "            <td>Booster Version</td>\n",
       "        </tr>\n",
       "        <tr>\n",
       "            <td>Booster Version</td>\n",
       "        </tr>\n",
       "        <tr>\n",
       "            <td>Booster Version</td>\n",
       "        </tr>\n",
       "        <tr>\n",
       "            <td>Booster Version</td>\n",
       "        </tr>\n",
       "        <tr>\n",
       "            <td>Booster Version</td>\n",
       "        </tr>\n",
       "        <tr>\n",
       "            <td>Booster Version</td>\n",
       "        </tr>\n",
       "        <tr>\n",
       "            <td>Booster Version</td>\n",
       "        </tr>\n",
       "        <tr>\n",
       "            <td>Booster Version</td>\n",
       "        </tr>\n",
       "        <tr>\n",
       "            <td>Booster Version</td>\n",
       "        </tr>\n",
       "        <tr>\n",
       "            <td>Booster Version</td>\n",
       "        </tr>\n",
       "        <tr>\n",
       "            <td>Booster Version</td>\n",
       "        </tr>\n",
       "        <tr>\n",
       "            <td>Booster Version</td>\n",
       "        </tr>\n",
       "        <tr>\n",
       "            <td>Booster Version</td>\n",
       "        </tr>\n",
       "        <tr>\n",
       "            <td>Booster Version</td>\n",
       "        </tr>\n",
       "        <tr>\n",
       "            <td>Booster Version</td>\n",
       "        </tr>\n",
       "        <tr>\n",
       "            <td>Booster Version</td>\n",
       "        </tr>\n",
       "        <tr>\n",
       "            <td>Booster Version</td>\n",
       "        </tr>\n",
       "        <tr>\n",
       "            <td>Booster Version</td>\n",
       "        </tr>\n",
       "        <tr>\n",
       "            <td>Booster Version</td>\n",
       "        </tr>\n",
       "        <tr>\n",
       "            <td>Booster Version</td>\n",
       "        </tr>\n",
       "        <tr>\n",
       "            <td>Booster Version</td>\n",
       "        </tr>\n",
       "        <tr>\n",
       "            <td>Booster Version</td>\n",
       "        </tr>\n",
       "        <tr>\n",
       "            <td>Booster Version</td>\n",
       "        </tr>\n",
       "        <tr>\n",
       "            <td>Booster Version</td>\n",
       "        </tr>\n",
       "        <tr>\n",
       "            <td>Booster Version</td>\n",
       "        </tr>\n",
       "        <tr>\n",
       "            <td>Booster Version</td>\n",
       "        </tr>\n",
       "        <tr>\n",
       "            <td>Booster Version</td>\n",
       "        </tr>\n",
       "        <tr>\n",
       "            <td>Booster Version</td>\n",
       "        </tr>\n",
       "        <tr>\n",
       "            <td>Booster Version</td>\n",
       "        </tr>\n",
       "        <tr>\n",
       "            <td>Booster Version</td>\n",
       "        </tr>\n",
       "        <tr>\n",
       "            <td>Booster Version</td>\n",
       "        </tr>\n",
       "        <tr>\n",
       "            <td>Booster Version</td>\n",
       "        </tr>\n",
       "        <tr>\n",
       "            <td>Booster Version</td>\n",
       "        </tr>\n",
       "        <tr>\n",
       "            <td>Booster Version</td>\n",
       "        </tr>\n",
       "        <tr>\n",
       "            <td>Booster Version</td>\n",
       "        </tr>\n",
       "        <tr>\n",
       "            <td>Booster Version</td>\n",
       "        </tr>\n",
       "        <tr>\n",
       "            <td>Booster Version</td>\n",
       "        </tr>\n",
       "        <tr>\n",
       "            <td>Booster Version</td>\n",
       "        </tr>\n",
       "        <tr>\n",
       "            <td>Booster Version</td>\n",
       "        </tr>\n",
       "        <tr>\n",
       "            <td>Booster Version</td>\n",
       "        </tr>\n",
       "        <tr>\n",
       "            <td>Booster Version</td>\n",
       "        </tr>\n",
       "        <tr>\n",
       "            <td>Booster Version</td>\n",
       "        </tr>\n",
       "        <tr>\n",
       "            <td>Booster Version</td>\n",
       "        </tr>\n",
       "        <tr>\n",
       "            <td>Booster Version</td>\n",
       "        </tr>\n",
       "        <tr>\n",
       "            <td>Booster Version</td>\n",
       "        </tr>\n",
       "        <tr>\n",
       "            <td>Booster Version</td>\n",
       "        </tr>\n",
       "        <tr>\n",
       "            <td>Booster Version</td>\n",
       "        </tr>\n",
       "        <tr>\n",
       "            <td>Booster Version</td>\n",
       "        </tr>\n",
       "        <tr>\n",
       "            <td>Booster Version</td>\n",
       "        </tr>\n",
       "        <tr>\n",
       "            <td>Booster Version</td>\n",
       "        </tr>\n",
       "        <tr>\n",
       "            <td>Booster Version</td>\n",
       "        </tr>\n",
       "        <tr>\n",
       "            <td>Booster Version</td>\n",
       "        </tr>\n",
       "        <tr>\n",
       "            <td>Booster Version</td>\n",
       "        </tr>\n",
       "        <tr>\n",
       "            <td>Booster Version</td>\n",
       "        </tr>\n",
       "        <tr>\n",
       "            <td>Booster Version</td>\n",
       "        </tr>\n",
       "        <tr>\n",
       "            <td>Booster Version</td>\n",
       "        </tr>\n",
       "        <tr>\n",
       "            <td>Booster Version</td>\n",
       "        </tr>\n",
       "        <tr>\n",
       "            <td>Booster Version</td>\n",
       "        </tr>\n",
       "        <tr>\n",
       "            <td>Booster Version</td>\n",
       "        </tr>\n",
       "        <tr>\n",
       "            <td>Booster Version</td>\n",
       "        </tr>\n",
       "    </tbody>\n",
       "</table>"
      ],
      "text/plain": [
       "[('Booster Version',),\n",
       " ('Booster Version',),\n",
       " ('Booster Version',),\n",
       " ('Booster Version',),\n",
       " ('Booster Version',),\n",
       " ('Booster Version',),\n",
       " ('Booster Version',),\n",
       " ('Booster Version',),\n",
       " ('Booster Version',),\n",
       " ('Booster Version',),\n",
       " ('Booster Version',),\n",
       " ('Booster Version',),\n",
       " ('Booster Version',),\n",
       " ('Booster Version',),\n",
       " ('Booster Version',),\n",
       " ('Booster Version',),\n",
       " ('Booster Version',),\n",
       " ('Booster Version',),\n",
       " ('Booster Version',),\n",
       " ('Booster Version',),\n",
       " ('Booster Version',),\n",
       " ('Booster Version',),\n",
       " ('Booster Version',),\n",
       " ('Booster Version',),\n",
       " ('Booster Version',),\n",
       " ('Booster Version',),\n",
       " ('Booster Version',),\n",
       " ('Booster Version',),\n",
       " ('Booster Version',),\n",
       " ('Booster Version',),\n",
       " ('Booster Version',),\n",
       " ('Booster Version',),\n",
       " ('Booster Version',),\n",
       " ('Booster Version',),\n",
       " ('Booster Version',),\n",
       " ('Booster Version',),\n",
       " ('Booster Version',),\n",
       " ('Booster Version',),\n",
       " ('Booster Version',),\n",
       " ('Booster Version',),\n",
       " ('Booster Version',),\n",
       " ('Booster Version',),\n",
       " ('Booster Version',),\n",
       " ('Booster Version',),\n",
       " ('Booster Version',),\n",
       " ('Booster Version',),\n",
       " ('Booster Version',),\n",
       " ('Booster Version',),\n",
       " ('Booster Version',),\n",
       " ('Booster Version',),\n",
       " ('Booster Version',),\n",
       " ('Booster Version',),\n",
       " ('Booster Version',),\n",
       " ('Booster Version',),\n",
       " ('Booster Version',),\n",
       " ('Booster Version',),\n",
       " ('Booster Version',),\n",
       " ('Booster Version',),\n",
       " ('Booster Version',),\n",
       " ('Booster Version',),\n",
       " ('Booster Version',),\n",
       " ('Booster Version',),\n",
       " ('Booster Version',),\n",
       " ('Booster Version',),\n",
       " ('Booster Version',),\n",
       " ('Booster Version',),\n",
       " ('Booster Version',),\n",
       " ('Booster Version',),\n",
       " ('Booster Version',),\n",
       " ('Booster Version',),\n",
       " ('Booster Version',),\n",
       " ('Booster Version',),\n",
       " ('Booster Version',),\n",
       " ('Booster Version',),\n",
       " ('Booster Version',),\n",
       " ('Booster Version',),\n",
       " ('Booster Version',),\n",
       " ('Booster Version',),\n",
       " ('Booster Version',),\n",
       " ('Booster Version',),\n",
       " ('Booster Version',),\n",
       " ('Booster Version',),\n",
       " ('Booster Version',),\n",
       " ('Booster Version',),\n",
       " ('Booster Version',),\n",
       " ('Booster Version',),\n",
       " ('Booster Version',),\n",
       " ('Booster Version',),\n",
       " ('Booster Version',),\n",
       " ('Booster Version',),\n",
       " ('Booster Version',),\n",
       " ('Booster Version',),\n",
       " ('Booster Version',),\n",
       " ('Booster Version',),\n",
       " ('Booster Version',),\n",
       " ('Booster Version',),\n",
       " ('Booster Version',),\n",
       " ('Booster Version',),\n",
       " ('Booster Version',),\n",
       " ('Booster Version',),\n",
       " ('Booster Version',)]"
      ]
     },
     "execution_count": 21,
     "metadata": {},
     "output_type": "execute_result"
    }
   ],
   "source": [
    "%%sql SELECT \"Booster Version\" AS Booster_Names\n",
    "FROM SPACEXTABLE\n",
    "WHERE \"Payload Mass (kg)\" = (SELECT MAX(\"Payload Mass (kg)\") FROM SPACEXTABLE);\n"
   ]
  },
  {
   "cell_type": "markdown",
   "metadata": {},
   "source": [
    "### Task 9\n",
    "\n",
    "\n",
    "##### List the records which will display the month names, failure landing_outcomes in drone ship ,booster versions, launch_site for the months in year 2015.\n",
    "\n",
    "**Note: SQLLite does not support monthnames. So you need to use  substr(Date, 4, 2) as month to get the months and substr(Date,7,4)='2015' for year.**\n"
   ]
  },
  {
   "cell_type": "code",
   "execution_count": 23,
   "metadata": {
    "tags": []
   },
   "outputs": [
    {
     "name": "stdout",
     "output_type": "stream",
     "text": [
      " * sqlite:///my_data1.db\n",
      "Done.\n"
     ]
    },
    {
     "data": {
      "text/html": [
       "<table>\n",
       "    <thead>\n",
       "        <tr>\n",
       "            <th>Month_Name</th>\n",
       "            <th>Failure_Landing_Outcome</th>\n",
       "            <th>Booster_Version</th>\n",
       "            <th>Launch_Site</th>\n",
       "        </tr>\n",
       "    </thead>\n",
       "    <tbody>\n",
       "    </tbody>\n",
       "</table>"
      ],
      "text/plain": [
       "[]"
      ]
     },
     "execution_count": 23,
     "metadata": {},
     "output_type": "execute_result"
    }
   ],
   "source": [
    "%%sql SELECT\n",
    "    CASE\n",
    "        WHEN substr(Date, 4, 2) = '01' THEN 'January'\n",
    "        WHEN substr(Date, 4, 2) = '02' THEN 'February'\n",
    "        WHEN substr(Date, 4, 2) = '03' THEN 'March'\n",
    "        WHEN substr(Date, 4, 2) = '04' THEN 'April'\n",
    "        WHEN substr(Date, 4, 2) = '05' THEN 'May'\n",
    "        WHEN substr(Date, 4, 2) = '06' THEN 'June'\n",
    "        WHEN substr(Date, 4, 2) = '07' THEN 'July'\n",
    "        WHEN substr(Date, 4, 2) = '08' THEN 'August'\n",
    "        WHEN substr(Date, 4, 2) = '09' THEN 'September'\n",
    "        WHEN substr(Date, 4, 2) = '10' THEN 'October'\n",
    "        WHEN substr(Date, 4, 2) = '11' THEN 'November'\n",
    "        WHEN substr(Date, 4, 2) = '12' THEN 'December'\n",
    "    END AS Month_Name,\n",
    "    \"Landing Outcome\" AS Failure_Landing_Outcome,\n",
    "    \"Booster Version\" AS Booster_Version,\n",
    "    \"Launch Site\" AS Launch_Site\n",
    "FROM SPACEXTABLE\n",
    "WHERE substr(Date, 7, 4) = '2015'\n",
    "    AND \"Landing Outcome\" LIKE 'Failure%'\n",
    "    AND \"Landing Outcome\" LIKE '%drone ship%';\n"
   ]
  },
  {
   "cell_type": "markdown",
   "metadata": {},
   "source": [
    "### Task 10\n",
    "\n",
    "\n",
    "\n",
    "\n",
    "##### Rank the count of landing outcomes (such as Failure (drone ship) or Success (ground pad)) between the date 2010-06-04 and 2017-03-20, in descending order.\n"
   ]
  },
  {
   "cell_type": "code",
   "execution_count": 25,
   "metadata": {
    "tags": []
   },
   "outputs": [
    {
     "name": "stdout",
     "output_type": "stream",
     "text": [
      " * sqlite:///my_data1.db\n",
      "Done.\n"
     ]
    },
    {
     "data": {
      "text/html": [
       "<table>\n",
       "    <thead>\n",
       "        <tr>\n",
       "            <th>&quot;Landing Outcome&quot;</th>\n",
       "            <th>Count_Landing_Outcomes</th>\n",
       "        </tr>\n",
       "    </thead>\n",
       "    <tbody>\n",
       "        <tr>\n",
       "            <td>Landing Outcome</td>\n",
       "            <td>32</td>\n",
       "        </tr>\n",
       "    </tbody>\n",
       "</table>"
      ],
      "text/plain": [
       "[('Landing Outcome', 32)]"
      ]
     },
     "execution_count": 25,
     "metadata": {},
     "output_type": "execute_result"
    }
   ],
   "source": [
    "%%sql SELECT \"Landing Outcome\", COUNT(*) AS Count_Landing_Outcomes\n",
    "FROM SPACEXTABLE\n",
    "WHERE \"Date\" BETWEEN '2010-06-04' AND '2017-03-20'\n",
    "GROUP BY \"Landing Outcome\"\n",
    "ORDER BY Count_Landing_Outcomes DESC;\n"
   ]
  },
  {
   "cell_type": "markdown",
   "metadata": {},
   "source": [
    "### Reference Links\n",
    "\n",
    "* <a href =\"https://cf-courses-data.s3.us.cloud-object-storage.appdomain.cloud/IBMDeveloperSkillsNetwork-DB0201EN-SkillsNetwork/labs/Labs_Coursera_V5/labs/Lab%20-%20String%20Patterns%20-%20Sorting%20-%20Grouping/instructional-labs.md.html?origin=www.coursera.org\">Hands-on Lab : String Patterns, Sorting and Grouping</a>  \n",
    "\n",
    "*  <a  href=\"https://cf-courses-data.s3.us.cloud-object-storage.appdomain.cloud/IBMDeveloperSkillsNetwork-DB0201EN-SkillsNetwork/labs/Labs_Coursera_V5/labs/Lab%20-%20Built-in%20functions%20/Hands-on_Lab__Built-in_Functions.md.html?origin=www.coursera.org\">Hands-on Lab: Built-in functions</a>\n",
    "\n",
    "*  <a  href=\"https://cf-courses-data.s3.us.cloud-object-storage.appdomain.cloud/IBMDeveloperSkillsNetwork-DB0201EN-SkillsNetwork/labs/Labs_Coursera_V5/labs/Lab%20-%20Sub-queries%20and%20Nested%20SELECTs%20/instructional-labs.md.html?origin=www.coursera.org\">Hands-on Lab : Sub-queries and Nested SELECT Statements</a>\n",
    "\n",
    "*   <a href=\"https://cf-courses-data.s3.us.cloud-object-storage.appdomain.cloud/IBMDeveloperSkillsNetwork-DB0201EN-SkillsNetwork/labs/Module%205/DB0201EN-Week3-1-3-SQLmagic.ipynb\">Hands-on Tutorial: Accessing Databases with SQL magic</a>\n",
    "\n",
    "*  <a href= \"https://cf-courses-data.s3.us.cloud-object-storage.appdomain.cloud/IBMDeveloperSkillsNetwork-DB0201EN-SkillsNetwork/labs/Module%205/DB0201EN-Week3-1-4-Analyzing.ipynb\">Hands-on Lab: Analyzing a real World Data Set</a>\n",
    "\n",
    "\n"
   ]
  },
  {
   "cell_type": "markdown",
   "metadata": {},
   "source": [
    "## Author(s)\n",
    "\n",
    "<h4> Lakshmi Holla </h4>\n"
   ]
  },
  {
   "cell_type": "markdown",
   "metadata": {},
   "source": [
    "## Other Contributors\n",
    "\n",
    "<h4> Rav Ahuja </h4>\n"
   ]
  },
  {
   "cell_type": "markdown",
   "metadata": {},
   "source": [
    "## Change log\n",
    "| Date | Version | Changed by | Change Description |\n",
    "|------|--------|--------|---------|\n",
    "| 2021-07-09 | 0.2 |Lakshmi Holla | Changes made in magic sql|\n",
    "| 2021-05-20 | 0.1 |Lakshmi Holla | Created Initial Version |\n"
   ]
  },
  {
   "cell_type": "markdown",
   "metadata": {},
   "source": [
    "## <h3 align=\"center\"> © IBM Corporation 2021. All rights reserved. <h3/>\n"
   ]
  }
 ],
 "metadata": {
  "kernelspec": {
   "display_name": "Python",
   "language": "python",
   "name": "conda-env-python-py"
  },
  "language_info": {
   "codemirror_mode": {
    "name": "ipython",
    "version": 3
   },
   "file_extension": ".py",
   "mimetype": "text/x-python",
   "name": "python",
   "nbconvert_exporter": "python",
   "pygments_lexer": "ipython3",
   "version": "3.7.12"
  }
 },
 "nbformat": 4,
 "nbformat_minor": 4
}
