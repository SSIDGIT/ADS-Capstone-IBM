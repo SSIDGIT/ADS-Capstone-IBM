{
  "metadata": {
    "colab": {
      "name": "GH_Build_a_Dashboard_Application_with_Plotly_Dash_v10.ipynb",
      "provenance": [],
      "collapsed_sections": [],
      "include_colab_link": true
    },
    "kernelspec": {
      "name": "python",
      "display_name": "Python (Pyodide)",
      "language": "python"
    },
    "language_info": {
      "codemirror_mode": {
        "name": "python",
        "version": 3
      },
      "file_extension": ".py",
      "mimetype": "text/x-python",
      "name": "python",
      "nbconvert_exporter": "python",
      "pygments_lexer": "ipython3",
      "version": "3.8"
    }
  },
  "nbformat_minor": 4,
  "nbformat": 4,
  "cells": [
    {
      "cell_type": "markdown",
      "source": "<a href=\"https://colab.research.google.com/github/DrStef/Applied_Data_Science_Capstone/blob/main/GH_Build_a_Dashboard_Application_with_Plotly_Dash_v10.ipynb\" target=\"_parent\"><img src=\"https://colab.research.google.com/assets/colab-badge.svg\" alt=\"Open In Colab\"/></a>",
      "metadata": {
        "id": "view-in-github",
        "colab_type": "text"
      }
    },
    {
      "cell_type": "markdown",
      "source": "<center>\n    <img src=\"https://cf-courses-data.s3.us.cloud-object-storage.appdomain.cloud/IBMDeveloperSkillsNetwork-DV0101EN-SkillsNetwork/labs/Module%204/logo.png\" width=\"300\" alt=\"cognitiveclass.ai logo\" />\n</center>\n",
      "metadata": {
        "id": "YaPkxb6A70VE"
      }
    },
    {
      "cell_type": "markdown",
      "source": "# Build a Dashboard Application with Plotly Dash\n\n    \n    \n### <b> Note to the reviewer </b>: Since I have no longer access to a IBM Cloud account, the interactive Dash application will run on Google Colab, using JupyterDash.      \n### <span style=\"color: #7b241c\"> <b>Important remarks: </b> <br>\n### -Execute all cells. The execution is often \"erratic\". <br>\n### -The dashboard will be running on port:8070. <br> Click on http://127.0.0.1:8070/ at the bottom of the page  \n### -The dashboard will take some time to load.   </span>\n\n\n<br>\n<br>\nIn this lab, you will be building a Plotly Dash application for users to perform interactive visual analytics on SpaceX launch data in real-time.\n\nThis dashboard application contains input components such as a dropdown list and a range slider to interact with a pie chart and a scatter point chart. You will be guided to build this dashboard application via the following tasks:\n\nTASK 1: Add a Launch Site Drop-down Input Component\nTASK 2: Add a callback function to render success-pie-chart based on selected site dropdown\nTASK 3: Add a Range Slider to Select Payload\nTASK 4: Add a callback function to render the success-payload-scatter-chart scatter plot.\n\nNote:Please take screenshots of the Dashboard and save them. Further upload your notebook to github.\nThe github url and the screenshots are later required in the presentation slides.\nYour completed dashboard application should look like the following screenshot:",
      "metadata": {
        "id": "WkUikJv670VK"
      }
    },
    {
      "cell_type": "markdown",
      "source": "<img src=\"https://cf-courses-data.s3.us.cloud-object-storage.appdomain.cloud/IBM-DS0321EN-SkillsNetwork/labs/module_3/images/dash_completed.PNG\" width=\"1000\" height=\"400\">\n\n\n\nhttps://cf-courses-data.s3.us.cloud-object-storage.appdomain.cloud/IBM-DS0321EN-SkillsNetwork/labs/module_3/images/dash_completed.PNG",
      "metadata": {
        "id": "9IgNwE2X70VL"
      }
    },
    {
      "cell_type": "markdown",
      "source": "After visual analysis using the dashboard, you should be able to obtain some insights to answer the following five questions:\n\n1. Which site has the largest successful launches? \n2. Which site has the highest launch success rate? \n3. Which payload range(s) has the highest launch success rate? \n4. Which payload range(s) has the lowest launch success rate? \n5. Which F9 Booster version (v1.0, v1.1, FT, B4, B5, etc.) has the highest launch success rate?\n\nEstimated time needed: 90 minutes",
      "metadata": {
        "id": "gFQ5gB-g70VM"
      }
    },
    {
      "cell_type": "markdown",
      "source": "Note:  This jupyter notebook header and introduction was built after:\n        https://cf-courses-data.s3.us.cloud-object-storage.appdomain.cloud/IBM-DS0321EN-SkillsNetwork/labs/module_3/lab_theia_plotly_dash.md.html\n        ",
      "metadata": {
        "id": "72TGL5h570VM"
      }
    },
    {
      "cell_type": "markdown",
      "source": "#### Given the size of the figures, we set page width close to maximum.  ",
      "metadata": {
        "id": "QTCJ7j7s70VN"
      }
    },
    {
      "cell_type": "code",
      "source": "from IPython.display import display, HTML\ndisplay(HTML(\"<style>.container { width:95% !important; }</style>\"))\n\n#-------  For centering figures \nfrom IPython.core.display import HTML\nHTML(\"\"\"\n<style>\n.output_png {\n    display: table-cell;\n    text-align: center;\n    vertical-align: middle;\n}\n</style>\n\"\"\")\n\n",
      "metadata": {
        "colab": {
          "base_uri": "https://localhost:8080/",
          "height": 17
        },
        "id": "x8bfZvZ370VN",
        "outputId": "ac13631d-b522-4517-f966-158ef80866ae"
      },
      "execution_count": null,
      "outputs": [
        {
          "output_type": "display_data",
          "data": {
            "text/plain": [
              "<IPython.core.display.HTML object>"
            ],
            "text/html": [
              "<style>.container { width:95% !important; }</style>"
            ]
          },
          "metadata": {}
        },
        {
          "output_type": "execute_result",
          "execution_count": 4,
          "data": {
            "text/plain": [
              "<IPython.core.display.HTML object>"
            ],
            "text/html": [
              "\n",
              "<style>\n",
              ".output_png {\n",
              "    display: table-cell;\n",
              "    text-align: center;\n",
              "    vertical-align: middle;\n",
              "}\n",
              "</style>\n"
            ]
          },
          "metadata": {}
        }
      ]
    },
    {
      "cell_type": "markdown",
      "source": "#### Installation for local implementation.",
      "metadata": {
        "id": "a64QDXW470VP"
      }
    },
    {
      "cell_type": "code",
      "source": "!pip install matplotlib\n!pip install plotly\n#!pip install pandas dash\n#!pip install sklearn\n!pip install pandas\n#!pip install fairlearn\n#!pip install bokeh\n#!pip install matplotlib\n!pip install plotly\n!pip uninstall werkzeug  --y\n!pip install werkzeug==2.0.1\n#!pip uninstall dash --y\n!pip install dash\n#!pip install pandas dash\n!pip install jupyter-dash\n!pip install Flask==2.1.0\n#!pip install environ",
      "metadata": {
        "colab": {
          "base_uri": "https://localhost:8080/"
        },
        "id": "3wG5Bx6S70VQ",
        "outputId": "e57671f2-ef38-42c8-d901-1bd1e563b531"
      },
      "execution_count": null,
      "outputs": [
        {
          "output_type": "stream",
          "name": "stdout",
          "text": "Looking in indexes: https://pypi.org/simple, https://us-python.pkg.dev/colab-wheels/public/simple/\n\nRequirement already satisfied: matplotlib in /usr/local/lib/python3.7/dist-packages (3.2.2)\n\nRequirement already satisfied: numpy>=1.11 in /usr/local/lib/python3.7/dist-packages (from matplotlib) (1.21.6)\n\nRequirement already satisfied: kiwisolver>=1.0.1 in /usr/local/lib/python3.7/dist-packages (from matplotlib) (1.4.3)\n\nRequirement already satisfied: pyparsing!=2.0.4,!=2.1.2,!=2.1.6,>=2.0.1 in /usr/local/lib/python3.7/dist-packages (from matplotlib) (3.0.9)\n\nRequirement already satisfied: cycler>=0.10 in /usr/local/lib/python3.7/dist-packages (from matplotlib) (0.11.0)\n\nRequirement already satisfied: python-dateutil>=2.1 in /usr/local/lib/python3.7/dist-packages (from matplotlib) (2.8.2)\n\nRequirement already satisfied: typing-extensions in /usr/local/lib/python3.7/dist-packages (from kiwisolver>=1.0.1->matplotlib) (4.1.1)\n\nRequirement already satisfied: six>=1.5 in /usr/local/lib/python3.7/dist-packages (from python-dateutil>=2.1->matplotlib) (1.15.0)\n\nLooking in indexes: https://pypi.org/simple, https://us-python.pkg.dev/colab-wheels/public/simple/\n\nRequirement already satisfied: plotly in /usr/local/lib/python3.7/dist-packages (5.5.0)\n\nRequirement already satisfied: tenacity>=6.2.0 in /usr/local/lib/python3.7/dist-packages (from plotly) (8.0.1)\n\nRequirement already satisfied: six in /usr/local/lib/python3.7/dist-packages (from plotly) (1.15.0)\n\nLooking in indexes: https://pypi.org/simple, https://us-python.pkg.dev/colab-wheels/public/simple/\n\nRequirement already satisfied: pandas in /usr/local/lib/python3.7/dist-packages (1.3.5)\n\nRequirement already satisfied: python-dateutil>=2.7.3 in /usr/local/lib/python3.7/dist-packages (from pandas) (2.8.2)\n\nRequirement already satisfied: pytz>=2017.3 in /usr/local/lib/python3.7/dist-packages (from pandas) (2022.1)\n\nRequirement already satisfied: numpy>=1.17.3 in /usr/local/lib/python3.7/dist-packages (from pandas) (1.21.6)\n\nRequirement already satisfied: six>=1.5 in /usr/local/lib/python3.7/dist-packages (from python-dateutil>=2.7.3->pandas) (1.15.0)\n\nLooking in indexes: https://pypi.org/simple, https://us-python.pkg.dev/colab-wheels/public/simple/\n\nRequirement already satisfied: plotly in /usr/local/lib/python3.7/dist-packages (5.5.0)\n\nRequirement already satisfied: six in /usr/local/lib/python3.7/dist-packages (from plotly) (1.15.0)\n\nRequirement already satisfied: tenacity>=6.2.0 in /usr/local/lib/python3.7/dist-packages (from plotly) (8.0.1)\n\nFound existing installation: Werkzeug 1.0.1\n\nUninstalling Werkzeug-1.0.1:\n\n  Successfully uninstalled Werkzeug-1.0.1\n\nLooking in indexes: https://pypi.org/simple, https://us-python.pkg.dev/colab-wheels/public/simple/\n\nCollecting werkzeug==2.0.1\n\n  Downloading Werkzeug-2.0.1-py3-none-any.whl (288 kB)\n\n\u001b[K     |████████████████████████████████| 288 kB 5.2 MB/s \n\n\u001b[?25hInstalling collected packages: werkzeug\n\n\u001b[31mERROR: pip's dependency resolver does not currently take into account all the packages that are installed. This behaviour is the source of the following dependency conflicts.\n\nflask 1.1.4 requires Werkzeug<2.0,>=0.15, but you have werkzeug 2.0.1 which is incompatible.\u001b[0m\n\nSuccessfully installed werkzeug-2.0.1\n\nLooking in indexes: https://pypi.org/simple, https://us-python.pkg.dev/colab-wheels/public/simple/\n\nCollecting dash\n\n  Downloading dash-2.5.1-py3-none-any.whl (9.8 MB)\n\n\u001b[K     |████████████████████████████████| 9.8 MB 5.2 MB/s \n\n\u001b[?25hRequirement already satisfied: plotly>=5.0.0 in /usr/local/lib/python3.7/dist-packages (from dash) (5.5.0)\n\nRequirement already satisfied: Flask>=1.0.4 in /usr/local/lib/python3.7/dist-packages (from dash) (1.1.4)\n\nCollecting dash-core-components==2.0.0\n\n  Downloading dash_core_components-2.0.0-py3-none-any.whl (3.8 kB)\n\nCollecting dash-table==5.0.0\n\n  Downloading dash_table-5.0.0-py3-none-any.whl (3.9 kB)\n\nCollecting flask-compress\n\n  Downloading Flask_Compress-1.12-py3-none-any.whl (7.9 kB)\n\nCollecting dash-html-components==2.0.0\n\n  Downloading dash_html_components-2.0.0-py3-none-any.whl (4.1 kB)\n\nRequirement already satisfied: click<8.0,>=5.1 in /usr/local/lib/python3.7/dist-packages (from Flask>=1.0.4->dash) (7.1.2)\n\nRequirement already satisfied: Jinja2<3.0,>=2.10.1 in /usr/local/lib/python3.7/dist-packages (from Flask>=1.0.4->dash) (2.11.3)\n\nRequirement already satisfied: itsdangerous<2.0,>=0.24 in /usr/local/lib/python3.7/dist-packages (from Flask>=1.0.4->dash) (1.1.0)\n\nCollecting Werkzeug<2.0,>=0.15\n\n  Downloading Werkzeug-1.0.1-py2.py3-none-any.whl (298 kB)\n\n\u001b[K     |████████████████████████████████| 298 kB 50.7 MB/s \n\n\u001b[?25hRequirement already satisfied: MarkupSafe>=0.23 in /usr/local/lib/python3.7/dist-packages (from Jinja2<3.0,>=2.10.1->Flask>=1.0.4->dash) (2.0.1)\n\nRequirement already satisfied: tenacity>=6.2.0 in /usr/local/lib/python3.7/dist-packages (from plotly>=5.0.0->dash) (8.0.1)\n\nRequirement already satisfied: six in /usr/local/lib/python3.7/dist-packages (from plotly>=5.0.0->dash) (1.15.0)\n\nCollecting brotli\n\n  Downloading Brotli-1.0.9-cp37-cp37m-manylinux1_x86_64.whl (357 kB)\n\n\u001b[K     |████████████████████████████████| 357 kB 48.3 MB/s \n\n\u001b[?25hInstalling collected packages: Werkzeug, brotli, flask-compress, dash-table, dash-html-components, dash-core-components, dash\n\n  Attempting uninstall: Werkzeug\n\n    Found existing installation: Werkzeug 2.0.1\n\n    Uninstalling Werkzeug-2.0.1:\n\n      Successfully uninstalled Werkzeug-2.0.1\n\nSuccessfully installed Werkzeug-1.0.1 brotli-1.0.9 dash-2.5.1 dash-core-components-2.0.0 dash-html-components-2.0.0 dash-table-5.0.0 flask-compress-1.12\n\nLooking in indexes: https://pypi.org/simple, https://us-python.pkg.dev/colab-wheels/public/simple/\n\nCollecting jupyter-dash\n\n  Downloading jupyter_dash-0.4.2-py3-none-any.whl (23 kB)\n\nCollecting retrying\n\n  Downloading retrying-1.3.3.tar.gz (10 kB)\n\nRequirement already satisfied: ipykernel in /usr/local/lib/python3.7/dist-packages (from jupyter-dash) (4.10.1)\n\nRequirement already satisfied: nest-asyncio in /usr/local/lib/python3.7/dist-packages (from jupyter-dash) (1.5.5)\n\nRequirement already satisfied: requests in /usr/local/lib/python3.7/dist-packages (from jupyter-dash) (2.23.0)\n\nRequirement already satisfied: ipython in /usr/local/lib/python3.7/dist-packages (from jupyter-dash) (5.5.0)\n\nCollecting ansi2html\n\n  Downloading ansi2html-1.7.0-py3-none-any.whl (15 kB)\n\nRequirement already satisfied: flask in /usr/local/lib/python3.7/dist-packages (from jupyter-dash) (1.1.4)\n\nRequirement already satisfied: dash in /usr/local/lib/python3.7/dist-packages (from jupyter-dash) (2.5.1)\n\nRequirement already satisfied: importlib-metadata in /usr/local/lib/python3.7/dist-packages (from ansi2html->jupyter-dash) (4.11.4)\n\nRequirement already satisfied: flask-compress in /usr/local/lib/python3.7/dist-packages (from dash->jupyter-dash) (1.12)\n\nRequirement already satisfied: dash-core-components==2.0.0 in /usr/local/lib/python3.7/dist-packages (from dash->jupyter-dash) (2.0.0)\n\nRequirement already satisfied: plotly>=5.0.0 in /usr/local/lib/python3.7/dist-packages (from dash->jupyter-dash) (5.5.0)\n\nRequirement already satisfied: dash-html-components==2.0.0 in /usr/local/lib/python3.7/dist-packages (from dash->jupyter-dash) (2.0.0)\n\nRequirement already satisfied: dash-table==5.0.0 in /usr/local/lib/python3.7/dist-packages (from dash->jupyter-dash) (5.0.0)\n\nRequirement already satisfied: Jinja2<3.0,>=2.10.1 in /usr/local/lib/python3.7/dist-packages (from flask->jupyter-dash) (2.11.3)\n\nRequirement already satisfied: click<8.0,>=5.1 in /usr/local/lib/python3.7/dist-packages (from flask->jupyter-dash) (7.1.2)\n\nRequirement already satisfied: itsdangerous<2.0,>=0.24 in /usr/local/lib/python3.7/dist-packages (from flask->jupyter-dash) (1.1.0)\n\nRequirement already satisfied: Werkzeug<2.0,>=0.15 in /usr/local/lib/python3.7/dist-packages (from flask->jupyter-dash) (1.0.1)\n\nRequirement already satisfied: MarkupSafe>=0.23 in /usr/local/lib/python3.7/dist-packages (from Jinja2<3.0,>=2.10.1->flask->jupyter-dash) (2.0.1)\n\nRequirement already satisfied: tenacity>=6.2.0 in /usr/local/lib/python3.7/dist-packages (from plotly>=5.0.0->dash->jupyter-dash) (8.0.1)\n\nRequirement already satisfied: six in /usr/local/lib/python3.7/dist-packages (from plotly>=5.0.0->dash->jupyter-dash) (1.15.0)\n\nRequirement already satisfied: brotli in /usr/local/lib/python3.7/dist-packages (from flask-compress->dash->jupyter-dash) (1.0.9)\n\nRequirement already satisfied: zipp>=0.5 in /usr/local/lib/python3.7/dist-packages (from importlib-metadata->ansi2html->jupyter-dash) (3.8.0)\n\nRequirement already satisfied: typing-extensions>=3.6.4 in /usr/local/lib/python3.7/dist-packages (from importlib-metadata->ansi2html->jupyter-dash) (4.1.1)\n\nRequirement already satisfied: traitlets>=4.1.0 in /usr/local/lib/python3.7/dist-packages (from ipykernel->jupyter-dash) (5.1.1)\n\nRequirement already satisfied: tornado>=4.0 in /usr/local/lib/python3.7/dist-packages (from ipykernel->jupyter-dash) (5.1.1)\n\nRequirement already satisfied: jupyter-client in /usr/local/lib/python3.7/dist-packages (from ipykernel->jupyter-dash) (5.3.5)\n\nRequirement already satisfied: pexpect in /usr/local/lib/python3.7/dist-packages (from ipython->jupyter-dash) (4.8.0)\n\nRequirement already satisfied: decorator in /usr/local/lib/python3.7/dist-packages (from ipython->jupyter-dash) (4.4.2)\n\nRequirement already satisfied: pickleshare in /usr/local/lib/python3.7/dist-packages (from ipython->jupyter-dash) (0.7.5)\n\nRequirement already satisfied: pygments in /usr/local/lib/python3.7/dist-packages (from ipython->jupyter-dash) (2.6.1)\n\nRequirement already satisfied: simplegeneric>0.8 in /usr/local/lib/python3.7/dist-packages (from ipython->jupyter-dash) (0.8.1)\n\nRequirement already satisfied: prompt-toolkit<2.0.0,>=1.0.4 in /usr/local/lib/python3.7/dist-packages (from ipython->jupyter-dash) (1.0.18)\n\nRequirement already satisfied: setuptools>=18.5 in /usr/local/lib/python3.7/dist-packages (from ipython->jupyter-dash) (57.4.0)\n\nRequirement already satisfied: wcwidth in /usr/local/lib/python3.7/dist-packages (from prompt-toolkit<2.0.0,>=1.0.4->ipython->jupyter-dash) (0.2.5)\n\nRequirement already satisfied: pyzmq>=13 in /usr/local/lib/python3.7/dist-packages (from jupyter-client->ipykernel->jupyter-dash) (23.1.0)\n\nRequirement already satisfied: jupyter-core>=4.6.0 in /usr/local/lib/python3.7/dist-packages (from jupyter-client->ipykernel->jupyter-dash) (4.10.0)\n\nRequirement already satisfied: python-dateutil>=2.1 in /usr/local/lib/python3.7/dist-packages (from jupyter-client->ipykernel->jupyter-dash) (2.8.2)\n\nRequirement already satisfied: ptyprocess>=0.5 in /usr/local/lib/python3.7/dist-packages (from pexpect->ipython->jupyter-dash) (0.7.0)\n\nRequirement already satisfied: certifi>=2017.4.17 in /usr/local/lib/python3.7/dist-packages (from requests->jupyter-dash) (2022.6.15)\n\nRequirement already satisfied: idna<3,>=2.5 in /usr/local/lib/python3.7/dist-packages (from requests->jupyter-dash) (2.10)\n\nRequirement already satisfied: urllib3!=1.25.0,!=1.25.1,<1.26,>=1.21.1 in /usr/local/lib/python3.7/dist-packages (from requests->jupyter-dash) (1.24.3)\n\nRequirement already satisfied: chardet<4,>=3.0.2 in /usr/local/lib/python3.7/dist-packages (from requests->jupyter-dash) (3.0.4)\n\nBuilding wheels for collected packages: retrying\n\n  Building wheel for retrying (setup.py) ... \u001b[?25l\u001b[?25hdone\n\n  Created wheel for retrying: filename=retrying-1.3.3-py3-none-any.whl size=11447 sha256=232b89523a9b0d982d6389a494727a1fc3864c72449219ea773f711f430567c0\n\n  Stored in directory: /root/.cache/pip/wheels/f9/8d/8d/f6af3f7f9eea3553bc2fe6d53e4b287dad18b06a861ac56ddf\n\nSuccessfully built retrying\n\nInstalling collected packages: retrying, ansi2html, jupyter-dash\n\nSuccessfully installed ansi2html-1.7.0 jupyter-dash-0.4.2 retrying-1.3.3\n\nLooking in indexes: https://pypi.org/simple, https://us-python.pkg.dev/colab-wheels/public/simple/\n\nCollecting Flask==2.1.0\n\n  Downloading Flask-2.1.0-py3-none-any.whl (95 kB)\n\n\u001b[K     |████████████████████████████████| 95 kB 2.4 MB/s \n\n\u001b[?25hCollecting Jinja2>=3.0\n\n  Downloading Jinja2-3.1.2-py3-none-any.whl (133 kB)\n\n\u001b[K     |████████████████████████████████| 133 kB 10.9 MB/s \n\n\u001b[?25hRequirement already satisfied: importlib-metadata in /usr/local/lib/python3.7/dist-packages (from Flask==2.1.0) (4.11.4)\n\nCollecting itsdangerous>=2.0\n\n  Downloading itsdangerous-2.1.2-py3-none-any.whl (15 kB)\n\nCollecting click>=8.0\n\n  Downloading click-8.1.3-py3-none-any.whl (96 kB)\n\n\u001b[K     |████████████████████████████████| 96 kB 5.7 MB/s \n\n\u001b[?25hCollecting Werkzeug>=2.0\n\n  Downloading Werkzeug-2.1.2-py3-none-any.whl (224 kB)\n\n\u001b[K     |████████████████████████████████| 224 kB 51.6 MB/s \n\n\u001b[?25hRequirement already satisfied: MarkupSafe>=2.0 in /usr/local/lib/python3.7/dist-packages (from Jinja2>=3.0->Flask==2.1.0) (2.0.1)\n\nRequirement already satisfied: typing-extensions>=3.6.4 in /usr/local/lib/python3.7/dist-packages (from importlib-metadata->Flask==2.1.0) (4.1.1)\n\nRequirement already satisfied: zipp>=0.5 in /usr/local/lib/python3.7/dist-packages (from importlib-metadata->Flask==2.1.0) (3.8.0)\n\nInstalling collected packages: Werkzeug, Jinja2, itsdangerous, click, Flask\n\n  Attempting uninstall: Werkzeug\n\n    Found existing installation: Werkzeug 1.0.1\n\n    Uninstalling Werkzeug-1.0.1:\n\n      Successfully uninstalled Werkzeug-1.0.1\n\n  Attempting uninstall: Jinja2\n\n    Found existing installation: Jinja2 2.11.3\n\n    Uninstalling Jinja2-2.11.3:\n\n      Successfully uninstalled Jinja2-2.11.3\n\n  Attempting uninstall: itsdangerous\n\n    Found existing installation: itsdangerous 1.1.0\n\n    Uninstalling itsdangerous-1.1.0:\n\n      Successfully uninstalled itsdangerous-1.1.0\n\n  Attempting uninstall: click\n\n    Found existing installation: click 7.1.2\n\n    Uninstalling click-7.1.2:\n\n      Successfully uninstalled click-7.1.2\n\n  Attempting uninstall: Flask\n\n    Found existing installation: Flask 1.1.4\n\n    Uninstalling Flask-1.1.4:\n\n      Successfully uninstalled Flask-1.1.4\n\n\u001b[31mERROR: pip's dependency resolver does not currently take into account all the packages that are installed. This behaviour is the source of the following dependency conflicts.\n\ndatascience 0.10.6 requires folium==0.2.1, but you have folium 0.8.3 which is incompatible.\u001b[0m\n\nSuccessfully installed Flask-2.1.0 Jinja2-3.1.2 Werkzeug-2.1.2 click-8.1.3 itsdangerous-2.1.2\n"
        }
      ]
    },
    {
      "cell_type": "code",
      "source": "#!pip install jupyter-server-proxy\n!pip install wget\n\n",
      "metadata": {
        "colab": {
          "base_uri": "https://localhost:8080/"
        },
        "id": "uq0oYHvq70VR",
        "outputId": "939689d7-1274-4802-f07e-a4f941d37855"
      },
      "execution_count": null,
      "outputs": [
        {
          "output_type": "stream",
          "name": "stdout",
          "text": "Looking in indexes: https://pypi.org/simple, https://us-python.pkg.dev/colab-wheels/public/simple/\n\nRequirement already satisfied: wget in /usr/local/lib/python3.7/dist-packages (3.2)\n"
        }
      ]
    },
    {
      "cell_type": "code",
      "source": "import wget\nimport pandas as pd",
      "metadata": {
        "id": "wrPlm8LN70VR"
      },
      "execution_count": null,
      "outputs": []
    },
    {
      "cell_type": "code",
      "source": "# Import required libraries  based on \"US domestic airline flights performance\" assignment in previous course\nimport pandas as pd\nimport dash\nfrom dash import dcc\nfrom dash import html\nfrom dash.dependencies import Input, Output, State\n#from jupyter_dash import JupyterDash\nimport plotly.graph_objects as go\nimport plotly.express as px\nfrom dash import no_update",
      "metadata": {
        "id": "tOJtWBB670VS"
      },
      "execution_count": null,
      "outputs": []
    },
    {
      "cell_type": "code",
      "source": "# Import required libraries\n#from jupyter_dash import JupyterDash",
      "metadata": {
        "id": "yVtRZudGQ_k7"
      },
      "execution_count": null,
      "outputs": []
    },
    {
      "cell_type": "code",
      "source": "from jupyter_dash.comms import _send_jupyter_config_comm_request\n#_send_jupyter_config_comm_request()",
      "metadata": {
        "id": "lgLSruZ870VT"
      },
      "execution_count": null,
      "outputs": []
    },
    {
      "cell_type": "code",
      "source": "from jupyter_dash import JupyterDash",
      "metadata": {
        "id": "5PX9zlv570VT"
      },
      "execution_count": null,
      "outputs": []
    },
    {
      "cell_type": "code",
      "source": "!wget \"https://cf-courses-data.s3.us.cloud-object-storage.appdomain.cloud/IBM-DS0321EN-SkillsNetwork/datasets/spacex_launch_dash.csv\"",
      "metadata": {
        "colab": {
          "base_uri": "https://localhost:8080/"
        },
        "id": "3uvNd8Ut70VU",
        "outputId": "c08b0a08-9c76-4b2d-bca1-354bf823594d"
      },
      "execution_count": null,
      "outputs": [
        {
          "output_type": "stream",
          "name": "stdout",
          "text": "--2022-06-27 17:25:06--  https://cf-courses-data.s3.us.cloud-object-storage.appdomain.cloud/IBM-DS0321EN-SkillsNetwork/datasets/spacex_launch_dash.csv\n\nResolving cf-courses-data.s3.us.cloud-object-storage.appdomain.cloud (cf-courses-data.s3.us.cloud-object-storage.appdomain.cloud)... 169.63.118.104\n\nConnecting to cf-courses-data.s3.us.cloud-object-storage.appdomain.cloud (cf-courses-data.s3.us.cloud-object-storage.appdomain.cloud)|169.63.118.104|:443... connected.\n\nHTTP request sent, awaiting response... 200 OK\n\nLength: 2476 (2.4K) [text/csv]\n\nSaving to: ‘spacex_launch_dash.csv’\n\n\n\nspacex_launch_dash. 100%[===================>]   2.42K  --.-KB/s    in 0s      \n\n\n\n2022-06-27 17:25:06 (575 MB/s) - ‘spacex_launch_dash.csv’ saved [2476/2476]\n\n\n"
        }
      ]
    },
    {
      "cell_type": "code",
      "source": "###!wget \"https://cf-courses-data.s3.us.cloud-object-storage.appdomain.cloud/IBM-DS0321EN-SkillsNetwork/labs/module_3/spacex_dash_app.py\"",
      "metadata": {
        "id": "nmopcfGh70VW"
      },
      "execution_count": null,
      "outputs": []
    },
    {
      "cell_type": "markdown",
      "source": "<span style=\"color:#0094cf;\"> spacex_dash_app.py was opened locally with IDLE Python 3.10. <br>  The content of the app is copied in the following cells and modified. <br> Notes below: <b> some instructions are obsolete ! </b> </span>",
      "metadata": {
        "id": "9qBhG43q70VX"
      }
    },
    {
      "cell_type": "code",
      "source": "# Import required libraries  # Done already -  based on \"US domestic airline flights performance\" assignement in previous course\n#mport pandas as pd\n#import dash\n#import dash_html_components as html    # OBSOLETE !\n#import dash_core_components as dcc     # OBSOLETE !\n#from dash.dependencies import Input, Output\n#import plotly.express as px\n\n# Read data into pandas dataframe\nspacex_df = pd.read_csv(\"spacex_launch_dash.csv\")\nmax_payload = spacex_df['Payload Mass (kg)'].max()\nmin_payload = spacex_df['Payload Mass (kg)'].min()\nprint(max_payload)\nprint(min_payload)",
      "metadata": {
        "colab": {
          "base_uri": "https://localhost:8080/"
        },
        "id": "nZEQieMb70VY",
        "outputId": "06d4e69b-22e8-4c0c-9d1e-b17106a32c02"
      },
      "execution_count": null,
      "outputs": [
        {
          "output_type": "stream",
          "name": "stdout",
          "text": "9600.0\n\n0.0\n"
        }
      ]
    },
    {
      "cell_type": "code",
      "source": "print(spacex_df.shape)\nprint(spacex_df.dtypes)\nspacex_df.head()",
      "metadata": {
        "colab": {
          "base_uri": "https://localhost:8080/",
          "height": 362
        },
        "id": "EdTxnJu370VY",
        "outputId": "9f77f6eb-2fce-4e97-ab89-e7b942f6370a"
      },
      "execution_count": null,
      "outputs": [
        {
          "output_type": "stream",
          "name": "stdout",
          "text": "(56, 7)\n\nUnnamed: 0                    int64\n\nFlight Number                 int64\n\nLaunch Site                  object\n\nclass                         int64\n\nPayload Mass (kg)           float64\n\nBooster Version              object\n\nBooster Version Category     object\n\ndtype: object\n"
        },
        {
          "output_type": "execute_result",
          "execution_count": 16,
          "data": {
            "text/plain": [
              "   Unnamed: 0  Flight Number  Launch Site  class  Payload Mass (kg)  \\\n",
              "0           0              1  CCAFS LC-40      0                0.0   \n",
              "1           1              2  CCAFS LC-40      0                0.0   \n",
              "2           2              3  CCAFS LC-40      0              525.0   \n",
              "3           3              4  CCAFS LC-40      0              500.0   \n",
              "4           4              5  CCAFS LC-40      0              677.0   \n",
              "\n",
              "  Booster Version Booster Version Category  \n",
              "0  F9 v1.0  B0003                     v1.0  \n",
              "1  F9 v1.0  B0004                     v1.0  \n",
              "2  F9 v1.0  B0005                     v1.0  \n",
              "3  F9 v1.0  B0006                     v1.0  \n",
              "4  F9 v1.0  B0007                     v1.0  "
            ],
            "text/html": [
              "\n",
              "  <div id=\"df-40509242-8e91-4096-80d9-e1ac1c82d381\">\n",
              "    <div class=\"colab-df-container\">\n",
              "      <div>\n",
              "<style scoped>\n",
              "    .dataframe tbody tr th:only-of-type {\n",
              "        vertical-align: middle;\n",
              "    }\n",
              "\n",
              "    .dataframe tbody tr th {\n",
              "        vertical-align: top;\n",
              "    }\n",
              "\n",
              "    .dataframe thead th {\n",
              "        text-align: right;\n",
              "    }\n",
              "</style>\n",
              "<table border=\"1\" class=\"dataframe\">\n",
              "  <thead>\n",
              "    <tr style=\"text-align: right;\">\n",
              "      <th></th>\n",
              "      <th>Unnamed: 0</th>\n",
              "      <th>Flight Number</th>\n",
              "      <th>Launch Site</th>\n",
              "      <th>class</th>\n",
              "      <th>Payload Mass (kg)</th>\n",
              "      <th>Booster Version</th>\n",
              "      <th>Booster Version Category</th>\n",
              "    </tr>\n",
              "  </thead>\n",
              "  <tbody>\n",
              "    <tr>\n",
              "      <th>0</th>\n",
              "      <td>0</td>\n",
              "      <td>1</td>\n",
              "      <td>CCAFS LC-40</td>\n",
              "      <td>0</td>\n",
              "      <td>0.0</td>\n",
              "      <td>F9 v1.0  B0003</td>\n",
              "      <td>v1.0</td>\n",
              "    </tr>\n",
              "    <tr>\n",
              "      <th>1</th>\n",
              "      <td>1</td>\n",
              "      <td>2</td>\n",
              "      <td>CCAFS LC-40</td>\n",
              "      <td>0</td>\n",
              "      <td>0.0</td>\n",
              "      <td>F9 v1.0  B0004</td>\n",
              "      <td>v1.0</td>\n",
              "    </tr>\n",
              "    <tr>\n",
              "      <th>2</th>\n",
              "      <td>2</td>\n",
              "      <td>3</td>\n",
              "      <td>CCAFS LC-40</td>\n",
              "      <td>0</td>\n",
              "      <td>525.0</td>\n",
              "      <td>F9 v1.0  B0005</td>\n",
              "      <td>v1.0</td>\n",
              "    </tr>\n",
              "    <tr>\n",
              "      <th>3</th>\n",
              "      <td>3</td>\n",
              "      <td>4</td>\n",
              "      <td>CCAFS LC-40</td>\n",
              "      <td>0</td>\n",
              "      <td>500.0</td>\n",
              "      <td>F9 v1.0  B0006</td>\n",
              "      <td>v1.0</td>\n",
              "    </tr>\n",
              "    <tr>\n",
              "      <th>4</th>\n",
              "      <td>4</td>\n",
              "      <td>5</td>\n",
              "      <td>CCAFS LC-40</td>\n",
              "      <td>0</td>\n",
              "      <td>677.0</td>\n",
              "      <td>F9 v1.0  B0007</td>\n",
              "      <td>v1.0</td>\n",
              "    </tr>\n",
              "  </tbody>\n",
              "</table>\n",
              "</div>\n",
              "      <button class=\"colab-df-convert\" onclick=\"convertToInteractive('df-40509242-8e91-4096-80d9-e1ac1c82d381')\"\n",
              "              title=\"Convert this dataframe to an interactive table.\"\n",
              "              style=\"display:none;\">\n",
              "        \n",
              "  <svg xmlns=\"http://www.w3.org/2000/svg\" height=\"24px\"viewBox=\"0 0 24 24\"\n",
              "       width=\"24px\">\n",
              "    <path d=\"M0 0h24v24H0V0z\" fill=\"none\"/>\n",
              "    <path d=\"M18.56 5.44l.94 2.06.94-2.06 2.06-.94-2.06-.94-.94-2.06-.94 2.06-2.06.94zm-11 1L8.5 8.5l.94-2.06 2.06-.94-2.06-.94L8.5 2.5l-.94 2.06-2.06.94zm10 10l.94 2.06.94-2.06 2.06-.94-2.06-.94-.94-2.06-.94 2.06-2.06.94z\"/><path d=\"M17.41 7.96l-1.37-1.37c-.4-.4-.92-.59-1.43-.59-.52 0-1.04.2-1.43.59L10.3 9.45l-7.72 7.72c-.78.78-.78 2.05 0 2.83L4 21.41c.39.39.9.59 1.41.59.51 0 1.02-.2 1.41-.59l7.78-7.78 2.81-2.81c.8-.78.8-2.07 0-2.86zM5.41 20L4 18.59l7.72-7.72 1.47 1.35L5.41 20z\"/>\n",
              "  </svg>\n",
              "      </button>\n",
              "      \n",
              "  <style>\n",
              "    .colab-df-container {\n",
              "      display:flex;\n",
              "      flex-wrap:wrap;\n",
              "      gap: 12px;\n",
              "    }\n",
              "\n",
              "    .colab-df-convert {\n",
              "      background-color: #E8F0FE;\n",
              "      border: none;\n",
              "      border-radius: 50%;\n",
              "      cursor: pointer;\n",
              "      display: none;\n",
              "      fill: #1967D2;\n",
              "      height: 32px;\n",
              "      padding: 0 0 0 0;\n",
              "      width: 32px;\n",
              "    }\n",
              "\n",
              "    .colab-df-convert:hover {\n",
              "      background-color: #E2EBFA;\n",
              "      box-shadow: 0px 1px 2px rgba(60, 64, 67, 0.3), 0px 1px 3px 1px rgba(60, 64, 67, 0.15);\n",
              "      fill: #174EA6;\n",
              "    }\n",
              "\n",
              "    [theme=dark] .colab-df-convert {\n",
              "      background-color: #3B4455;\n",
              "      fill: #D2E3FC;\n",
              "    }\n",
              "\n",
              "    [theme=dark] .colab-df-convert:hover {\n",
              "      background-color: #434B5C;\n",
              "      box-shadow: 0px 1px 3px 1px rgba(0, 0, 0, 0.15);\n",
              "      filter: drop-shadow(0px 1px 2px rgba(0, 0, 0, 0.3));\n",
              "      fill: #FFFFFF;\n",
              "    }\n",
              "  </style>\n",
              "\n",
              "      <script>\n",
              "        const buttonEl =\n",
              "          document.querySelector('#df-40509242-8e91-4096-80d9-e1ac1c82d381 button.colab-df-convert');\n",
              "        buttonEl.style.display =\n",
              "          google.colab.kernel.accessAllowed ? 'block' : 'none';\n",
              "\n",
              "        async function convertToInteractive(key) {\n",
              "          const element = document.querySelector('#df-40509242-8e91-4096-80d9-e1ac1c82d381');\n",
              "          const dataTable =\n",
              "            await google.colab.kernel.invokeFunction('convertToInteractive',\n",
              "                                                     [key], {});\n",
              "          if (!dataTable) return;\n",
              "\n",
              "          const docLinkHtml = 'Like what you see? Visit the ' +\n",
              "            '<a target=\"_blank\" href=https://colab.research.google.com/notebooks/data_table.ipynb>data table notebook</a>'\n",
              "            + ' to learn more about interactive tables.';\n",
              "          element.innerHTML = '';\n",
              "          dataTable['output_type'] = 'display_data';\n",
              "          await google.colab.output.renderOutput(dataTable, element);\n",
              "          const docLink = document.createElement('div');\n",
              "          docLink.innerHTML = docLinkHtml;\n",
              "          element.appendChild(docLink);\n",
              "        }\n",
              "      </script>\n",
              "    </div>\n",
              "  </div>\n",
              "  "
            ]
          },
          "metadata": {}
        }
      ]
    },
    {
      "cell_type": "markdown",
      "source": "#### TASK 1: Add a Launch Site Drop-down Input Component  \nWe have four different launch sites and we would like to first see which one has the largest success count. Then, we would like to select one specific site and check its detailed success rate (class=0 vs. class=1).\n\nAs such, we will need a dropdown menu to let us select different launch sites.\n\nFind and complete a commented dcc.Dropdown(id='site-dropdown',...) input with following attributes:\nid attribute with value site-dropdown\noptions attribute is a list of dict-like option objects (with label and value attributes). You can set the label and value all to be the launch site names in the spacex_df and you need to include the default All option. e.g.,\n  options=[{'label': 'All Sites', 'value': 'ALL'},{'label': 'site1', 'value': 'site1'}, ...]\nvalue attribute with default dropdown value to be ALL meaning all sites are selected\nplaceholder attribute to show a text description about this input area, such as Select a Launch Site here\nsearchable attribute to be True so we can enter keywords to search launch sites\n    \n    ",
      "metadata": {
        "id": "aa6H1OFE70VY"
      }
    },
    {
      "cell_type": "code",
      "source": "# DONE ALREADY - \n\n#dcc.Dropdown(id='id',\n #               options=[\n  #                  {'label': 'All Sites', 'value': 'ALL'},\n  #                  {'label': 'site1', 'value': 'site1'},\n  #              ],\n  #              value='ALL',\n  #              placeholder=\"place holder here\",\n#             searchable=True\n#                ),",
      "metadata": {
        "id": "icvmJDQ870VZ"
      },
      "execution_count": null,
      "outputs": []
    },
    {
      "cell_type": "markdown",
      "source": "##    Preliminary activities",
      "metadata": {
        "id": "1K9sj_GS70VZ"
      }
    },
    {
      "cell_type": "markdown",
      "source": "<span style=\"color:#0094cf;\"> **Preliminary tests for improving pie charts**: Here we test px.pie with options for freezing colors in 'class count' and add nice features: <br> \n<span style=\"color:#0094cf;\">* Red= failure  --  Green or Blue=success. </span> <br>\n<span style=\"color:#0094cf;\">* We change the legend labels. </span> <br>\n<span style=\"color:#0094cf;\">* we use a nice color palette   </span>  https://plotly.com/python/discrete-color/  <br>\n<span style=\"color:#0094cf;\">* we add the total number of launch attempts per site. </span>\n",
      "metadata": {
        "id": "HERtLcFK70VZ"
      }
    },
    {
      "cell_type": "code",
      "source": "#fig1 = px.colors.qualitative.swatches()\n#fig1.show()",
      "metadata": {
        "id": "XQ-V4gs870Va"
      },
      "execution_count": null,
      "outputs": []
    },
    {
      "cell_type": "code",
      "source": "entered_site='CCAFS LC-40'\nfiltered_df=spacex_df[spacex_df['Launch Site']== entered_site]\nfiltered_df=filtered_df.groupby(['Launch Site','class']).size().reset_index(name='class count')\nprint(filtered_df.head())\nfailure_count= filtered_df['class count'][0]\nsuccess_count= filtered_df['class count'][1]\ntotal_number_launch=filtered_df['class count'].sum()\nprint(total_number_launch)\n#fig=px.pie(filtered_df,values='class count',names='class',title=f\"Total Success Launches for site {entered_site}\")\n#fig=px.pie(filtered_df,values=[failure_count, success_count],names='class',title=f\"Total Success Launches for site {entered_site}\")\n#fig=px.pie(filtered_df,values=[failure_count, success_count],names=['Failures', 'Success'],       title=f\"Total Success Launches for site {entered_site}\")\n#fig=px.pie(filtered_df,values=[failure_count, success_count],names=['Failures', 'Success'], color=['Failures', 'Success'], color_discrete_map={'Failures':'red',\n#'Success':'green'}, color_discrete_sequence=px.colors.qualitative.Pastel, title=f\"<b>Launches outcome for site {entered_site}</b>\")\n#fig=px.pie(filtered_df,values=[failure_count, success_count],names=['Failures', 'Success'], color=['Failures', 'Success'], color_discrete_map={'Failures':'red',\n#'Success':'green'}, title=f\"<b>Launches outcome for site {entered_site}</b>\")\nfig=px.pie(filtered_df,values=[failure_count, success_count],names=['<b>Failure</b>', '<b>Success</b>'], color=['Failure', 'Success'], \n           color_discrete_map={'Failure':px.colors.qualitative.G10[1],\n           'Success':px.colors.qualitative.G10[5]}, \n           title=f\"<b>Launch attempts outcome (%) for site {entered_site}</b>  <br>Total Number of attempts= {total_number_launch} \")\n#px.colors.qualitative.Alphabet[6],\n#px.colors.qualitative.Alphabet[11]\nfig.show()",
      "metadata": {
        "colab": {
          "base_uri": "https://localhost:8080/",
          "height": 611
        },
        "id": "TyCRkBhC70Va",
        "outputId": "7aa40554-0d78-4de7-e4f3-e61e5f1fb460"
      },
      "execution_count": null,
      "outputs": [
        {
          "output_type": "stream",
          "name": "stdout",
          "text": "   Launch Site  class  class count\n\n0  CCAFS LC-40      0           19\n\n1  CCAFS LC-40      1            7\n\n26\n"
        },
        {
          "output_type": "display_data",
          "data": {
            "text/html": [
              "<html>\n",
              "<head><meta charset=\"utf-8\" /></head>\n",
              "<body>\n",
              "    <div>            <script src=\"https://cdnjs.cloudflare.com/ajax/libs/mathjax/2.7.5/MathJax.js?config=TeX-AMS-MML_SVG\"></script><script type=\"text/javascript\">if (window.MathJax) {MathJax.Hub.Config({SVG: {font: \"STIX-Web\"}});}</script>                <script type=\"text/javascript\">window.PlotlyConfig = {MathJaxConfig: 'local'};</script>\n",
              "        <script src=\"https://cdn.plot.ly/plotly-2.8.3.min.js\"></script>                <div id=\"39a69130-b651-42cf-b786-00c5a5380b4f\" class=\"plotly-graph-div\" style=\"height:525px; width:100%;\"></div>            <script type=\"text/javascript\">                                    window.PLOTLYENV=window.PLOTLYENV || {};                                    if (document.getElementById(\"39a69130-b651-42cf-b786-00c5a5380b4f\")) {                    Plotly.newPlot(                        \"39a69130-b651-42cf-b786-00c5a5380b4f\",                        [{\"customdata\":[[\"Failure\"],[\"Success\"]],\"domain\":{\"x\":[0.0,1.0],\"y\":[0.0,1.0]},\"hovertemplate\":\"label=%{label}<br>value=%{value}<br>color=%{customdata[0]}<extra></extra>\",\"labels\":[\"<b>Failure</b>\",\"<b>Success</b>\"],\"legendgroup\":\"\",\"marker\":{\"colors\":[\"#DC3912\",\"#0099C6\"]},\"name\":\"\",\"showlegend\":true,\"values\":[19,7],\"type\":\"pie\"}],                        {\"template\":{\"data\":{\"bar\":[{\"error_x\":{\"color\":\"#2a3f5f\"},\"error_y\":{\"color\":\"#2a3f5f\"},\"marker\":{\"line\":{\"color\":\"#E5ECF6\",\"width\":0.5},\"pattern\":{\"fillmode\":\"overlay\",\"size\":10,\"solidity\":0.2}},\"type\":\"bar\"}],\"barpolar\":[{\"marker\":{\"line\":{\"color\":\"#E5ECF6\",\"width\":0.5},\"pattern\":{\"fillmode\":\"overlay\",\"size\":10,\"solidity\":0.2}},\"type\":\"barpolar\"}],\"carpet\":[{\"aaxis\":{\"endlinecolor\":\"#2a3f5f\",\"gridcolor\":\"white\",\"linecolor\":\"white\",\"minorgridcolor\":\"white\",\"startlinecolor\":\"#2a3f5f\"},\"baxis\":{\"endlinecolor\":\"#2a3f5f\",\"gridcolor\":\"white\",\"linecolor\":\"white\",\"minorgridcolor\":\"white\",\"startlinecolor\":\"#2a3f5f\"},\"type\":\"carpet\"}],\"choropleth\":[{\"colorbar\":{\"outlinewidth\":0,\"ticks\":\"\"},\"type\":\"choropleth\"}],\"contour\":[{\"colorbar\":{\"outlinewidth\":0,\"ticks\":\"\"},\"colorscale\":[[0.0,\"#0d0887\"],[0.1111111111111111,\"#46039f\"],[0.2222222222222222,\"#7201a8\"],[0.3333333333333333,\"#9c179e\"],[0.4444444444444444,\"#bd3786\"],[0.5555555555555556,\"#d8576b\"],[0.6666666666666666,\"#ed7953\"],[0.7777777777777778,\"#fb9f3a\"],[0.8888888888888888,\"#fdca26\"],[1.0,\"#f0f921\"]],\"type\":\"contour\"}],\"contourcarpet\":[{\"colorbar\":{\"outlinewidth\":0,\"ticks\":\"\"},\"type\":\"contourcarpet\"}],\"heatmap\":[{\"colorbar\":{\"outlinewidth\":0,\"ticks\":\"\"},\"colorscale\":[[0.0,\"#0d0887\"],[0.1111111111111111,\"#46039f\"],[0.2222222222222222,\"#7201a8\"],[0.3333333333333333,\"#9c179e\"],[0.4444444444444444,\"#bd3786\"],[0.5555555555555556,\"#d8576b\"],[0.6666666666666666,\"#ed7953\"],[0.7777777777777778,\"#fb9f3a\"],[0.8888888888888888,\"#fdca26\"],[1.0,\"#f0f921\"]],\"type\":\"heatmap\"}],\"heatmapgl\":[{\"colorbar\":{\"outlinewidth\":0,\"ticks\":\"\"},\"colorscale\":[[0.0,\"#0d0887\"],[0.1111111111111111,\"#46039f\"],[0.2222222222222222,\"#7201a8\"],[0.3333333333333333,\"#9c179e\"],[0.4444444444444444,\"#bd3786\"],[0.5555555555555556,\"#d8576b\"],[0.6666666666666666,\"#ed7953\"],[0.7777777777777778,\"#fb9f3a\"],[0.8888888888888888,\"#fdca26\"],[1.0,\"#f0f921\"]],\"type\":\"heatmapgl\"}],\"histogram\":[{\"marker\":{\"pattern\":{\"fillmode\":\"overlay\",\"size\":10,\"solidity\":0.2}},\"type\":\"histogram\"}],\"histogram2d\":[{\"colorbar\":{\"outlinewidth\":0,\"ticks\":\"\"},\"colorscale\":[[0.0,\"#0d0887\"],[0.1111111111111111,\"#46039f\"],[0.2222222222222222,\"#7201a8\"],[0.3333333333333333,\"#9c179e\"],[0.4444444444444444,\"#bd3786\"],[0.5555555555555556,\"#d8576b\"],[0.6666666666666666,\"#ed7953\"],[0.7777777777777778,\"#fb9f3a\"],[0.8888888888888888,\"#fdca26\"],[1.0,\"#f0f921\"]],\"type\":\"histogram2d\"}],\"histogram2dcontour\":[{\"colorbar\":{\"outlinewidth\":0,\"ticks\":\"\"},\"colorscale\":[[0.0,\"#0d0887\"],[0.1111111111111111,\"#46039f\"],[0.2222222222222222,\"#7201a8\"],[0.3333333333333333,\"#9c179e\"],[0.4444444444444444,\"#bd3786\"],[0.5555555555555556,\"#d8576b\"],[0.6666666666666666,\"#ed7953\"],[0.7777777777777778,\"#fb9f3a\"],[0.8888888888888888,\"#fdca26\"],[1.0,\"#f0f921\"]],\"type\":\"histogram2dcontour\"}],\"mesh3d\":[{\"colorbar\":{\"outlinewidth\":0,\"ticks\":\"\"},\"type\":\"mesh3d\"}],\"parcoords\":[{\"line\":{\"colorbar\":{\"outlinewidth\":0,\"ticks\":\"\"}},\"type\":\"parcoords\"}],\"pie\":[{\"automargin\":true,\"type\":\"pie\"}],\"scatter\":[{\"marker\":{\"colorbar\":{\"outlinewidth\":0,\"ticks\":\"\"}},\"type\":\"scatter\"}],\"scatter3d\":[{\"line\":{\"colorbar\":{\"outlinewidth\":0,\"ticks\":\"\"}},\"marker\":{\"colorbar\":{\"outlinewidth\":0,\"ticks\":\"\"}},\"type\":\"scatter3d\"}],\"scattercarpet\":[{\"marker\":{\"colorbar\":{\"outlinewidth\":0,\"ticks\":\"\"}},\"type\":\"scattercarpet\"}],\"scattergeo\":[{\"marker\":{\"colorbar\":{\"outlinewidth\":0,\"ticks\":\"\"}},\"type\":\"scattergeo\"}],\"scattergl\":[{\"marker\":{\"colorbar\":{\"outlinewidth\":0,\"ticks\":\"\"}},\"type\":\"scattergl\"}],\"scattermapbox\":[{\"marker\":{\"colorbar\":{\"outlinewidth\":0,\"ticks\":\"\"}},\"type\":\"scattermapbox\"}],\"scatterpolar\":[{\"marker\":{\"colorbar\":{\"outlinewidth\":0,\"ticks\":\"\"}},\"type\":\"scatterpolar\"}],\"scatterpolargl\":[{\"marker\":{\"colorbar\":{\"outlinewidth\":0,\"ticks\":\"\"}},\"type\":\"scatterpolargl\"}],\"scatterternary\":[{\"marker\":{\"colorbar\":{\"outlinewidth\":0,\"ticks\":\"\"}},\"type\":\"scatterternary\"}],\"surface\":[{\"colorbar\":{\"outlinewidth\":0,\"ticks\":\"\"},\"colorscale\":[[0.0,\"#0d0887\"],[0.1111111111111111,\"#46039f\"],[0.2222222222222222,\"#7201a8\"],[0.3333333333333333,\"#9c179e\"],[0.4444444444444444,\"#bd3786\"],[0.5555555555555556,\"#d8576b\"],[0.6666666666666666,\"#ed7953\"],[0.7777777777777778,\"#fb9f3a\"],[0.8888888888888888,\"#fdca26\"],[1.0,\"#f0f921\"]],\"type\":\"surface\"}],\"table\":[{\"cells\":{\"fill\":{\"color\":\"#EBF0F8\"},\"line\":{\"color\":\"white\"}},\"header\":{\"fill\":{\"color\":\"#C8D4E3\"},\"line\":{\"color\":\"white\"}},\"type\":\"table\"}]},\"layout\":{\"annotationdefaults\":{\"arrowcolor\":\"#2a3f5f\",\"arrowhead\":0,\"arrowwidth\":1},\"autotypenumbers\":\"strict\",\"coloraxis\":{\"colorbar\":{\"outlinewidth\":0,\"ticks\":\"\"}},\"colorscale\":{\"diverging\":[[0,\"#8e0152\"],[0.1,\"#c51b7d\"],[0.2,\"#de77ae\"],[0.3,\"#f1b6da\"],[0.4,\"#fde0ef\"],[0.5,\"#f7f7f7\"],[0.6,\"#e6f5d0\"],[0.7,\"#b8e186\"],[0.8,\"#7fbc41\"],[0.9,\"#4d9221\"],[1,\"#276419\"]],\"sequential\":[[0.0,\"#0d0887\"],[0.1111111111111111,\"#46039f\"],[0.2222222222222222,\"#7201a8\"],[0.3333333333333333,\"#9c179e\"],[0.4444444444444444,\"#bd3786\"],[0.5555555555555556,\"#d8576b\"],[0.6666666666666666,\"#ed7953\"],[0.7777777777777778,\"#fb9f3a\"],[0.8888888888888888,\"#fdca26\"],[1.0,\"#f0f921\"]],\"sequentialminus\":[[0.0,\"#0d0887\"],[0.1111111111111111,\"#46039f\"],[0.2222222222222222,\"#7201a8\"],[0.3333333333333333,\"#9c179e\"],[0.4444444444444444,\"#bd3786\"],[0.5555555555555556,\"#d8576b\"],[0.6666666666666666,\"#ed7953\"],[0.7777777777777778,\"#fb9f3a\"],[0.8888888888888888,\"#fdca26\"],[1.0,\"#f0f921\"]]},\"colorway\":[\"#636efa\",\"#EF553B\",\"#00cc96\",\"#ab63fa\",\"#FFA15A\",\"#19d3f3\",\"#FF6692\",\"#B6E880\",\"#FF97FF\",\"#FECB52\"],\"font\":{\"color\":\"#2a3f5f\"},\"geo\":{\"bgcolor\":\"white\",\"lakecolor\":\"white\",\"landcolor\":\"#E5ECF6\",\"showlakes\":true,\"showland\":true,\"subunitcolor\":\"white\"},\"hoverlabel\":{\"align\":\"left\"},\"hovermode\":\"closest\",\"mapbox\":{\"style\":\"light\"},\"paper_bgcolor\":\"white\",\"plot_bgcolor\":\"#E5ECF6\",\"polar\":{\"angularaxis\":{\"gridcolor\":\"white\",\"linecolor\":\"white\",\"ticks\":\"\"},\"bgcolor\":\"#E5ECF6\",\"radialaxis\":{\"gridcolor\":\"white\",\"linecolor\":\"white\",\"ticks\":\"\"}},\"scene\":{\"xaxis\":{\"backgroundcolor\":\"#E5ECF6\",\"gridcolor\":\"white\",\"gridwidth\":2,\"linecolor\":\"white\",\"showbackground\":true,\"ticks\":\"\",\"zerolinecolor\":\"white\"},\"yaxis\":{\"backgroundcolor\":\"#E5ECF6\",\"gridcolor\":\"white\",\"gridwidth\":2,\"linecolor\":\"white\",\"showbackground\":true,\"ticks\":\"\",\"zerolinecolor\":\"white\"},\"zaxis\":{\"backgroundcolor\":\"#E5ECF6\",\"gridcolor\":\"white\",\"gridwidth\":2,\"linecolor\":\"white\",\"showbackground\":true,\"ticks\":\"\",\"zerolinecolor\":\"white\"}},\"shapedefaults\":{\"line\":{\"color\":\"#2a3f5f\"}},\"ternary\":{\"aaxis\":{\"gridcolor\":\"white\",\"linecolor\":\"white\",\"ticks\":\"\"},\"baxis\":{\"gridcolor\":\"white\",\"linecolor\":\"white\",\"ticks\":\"\"},\"bgcolor\":\"#E5ECF6\",\"caxis\":{\"gridcolor\":\"white\",\"linecolor\":\"white\",\"ticks\":\"\"}},\"title\":{\"x\":0.05},\"xaxis\":{\"automargin\":true,\"gridcolor\":\"white\",\"linecolor\":\"white\",\"ticks\":\"\",\"title\":{\"standoff\":15},\"zerolinecolor\":\"white\",\"zerolinewidth\":2},\"yaxis\":{\"automargin\":true,\"gridcolor\":\"white\",\"linecolor\":\"white\",\"ticks\":\"\",\"title\":{\"standoff\":15},\"zerolinecolor\":\"white\",\"zerolinewidth\":2}}},\"legend\":{\"tracegroupgap\":0},\"title\":{\"text\":\"<b>Launch attempts outcome (%) for site CCAFS LC-40</b>  <br>Total Number of attempts= 26 \"}},                        {\"responsive\": true}                    ).then(function(){\n",
              "                            \n",
              "var gd = document.getElementById('39a69130-b651-42cf-b786-00c5a5380b4f');\n",
              "var x = new MutationObserver(function (mutations, observer) {{\n",
              "        var display = window.getComputedStyle(gd).display;\n",
              "        if (!display || display === 'none') {{\n",
              "            console.log([gd, 'removed!']);\n",
              "            Plotly.purge(gd);\n",
              "            observer.disconnect();\n",
              "        }}\n",
              "}});\n",
              "\n",
              "// Listen for the removal of the full notebook cells\n",
              "var notebookContainer = gd.closest('#notebook-container');\n",
              "if (notebookContainer) {{\n",
              "    x.observe(notebookContainer, {childList: true});\n",
              "}}\n",
              "\n",
              "// Listen for the clearing of the current output cell\n",
              "var outputEl = gd.closest('.output');\n",
              "if (outputEl) {{\n",
              "    x.observe(outputEl, {childList: true});\n",
              "}}\n",
              "\n",
              "                        })                };                            </script>        </div>\n",
              "</body>\n",
              "</html>"
            ]
          },
          "metadata": {}
        }
      ]
    },
    {
      "cell_type": "markdown",
      "source": " <span style=\"color:#0094cf;\">  **Preliminary tests for improving px.scatter graph** </span>",
      "metadata": {
        "id": "4SQsMkMd70Va"
      }
    },
    {
      "cell_type": "code",
      "source": "import numpy as np\nlist = [0  , 10000]\npayload=np.array(list)\nfiltered_df = spacex_df[spacex_df['Payload Mass (kg)'].between(payload[0],payload[1])]\nentered_site='CCAFS LC-40'   \nfig=px.scatter(filtered_df[filtered_df['Launch Site']==entered_site],       \n               x='Payload Mass (kg)',y='class',color='Booster Version Category',\n                    title=f\"<b>Launch outcome v. payload mass for site {entered_site}</b>\")\nfig.update_traces(marker=dict(size=12,\n                              line=dict(width=2,\n                                        color='DarkSlateGrey')),\n                  selector=dict(mode='markers'))",
      "metadata": {
        "colab": {
          "base_uri": "https://localhost:8080/",
          "height": 542
        },
        "id": "otjKJ86970Vb",
        "outputId": "aed09a91-1b67-4080-9257-7f0affe493b2"
      },
      "execution_count": null,
      "outputs": [
        {
          "output_type": "display_data",
          "data": {
            "text/html": [
              "<html>\n",
              "<head><meta charset=\"utf-8\" /></head>\n",
              "<body>\n",
              "    <div>            <script src=\"https://cdnjs.cloudflare.com/ajax/libs/mathjax/2.7.5/MathJax.js?config=TeX-AMS-MML_SVG\"></script><script type=\"text/javascript\">if (window.MathJax) {MathJax.Hub.Config({SVG: {font: \"STIX-Web\"}});}</script>                <script type=\"text/javascript\">window.PlotlyConfig = {MathJaxConfig: 'local'};</script>\n",
              "        <script src=\"https://cdn.plot.ly/plotly-2.8.3.min.js\"></script>                <div id=\"e75fa5aa-123d-41fa-9f11-292ddde84c66\" class=\"plotly-graph-div\" style=\"height:525px; width:100%;\"></div>            <script type=\"text/javascript\">                                    window.PLOTLYENV=window.PLOTLYENV || {};                                    if (document.getElementById(\"e75fa5aa-123d-41fa-9f11-292ddde84c66\")) {                    Plotly.newPlot(                        \"e75fa5aa-123d-41fa-9f11-292ddde84c66\",                        [{\"hovertemplate\":\"Booster Version Category=v1.0<br>Payload Mass (kg)=%{x}<br>class=%{y}<extra></extra>\",\"legendgroup\":\"v1.0\",\"marker\":{\"color\":\"#636efa\",\"symbol\":\"circle\",\"line\":{\"color\":\"DarkSlateGrey\",\"width\":2},\"size\":12},\"mode\":\"markers\",\"name\":\"v1.0\",\"orientation\":\"v\",\"showlegend\":true,\"x\":[0.0,0.0,525.0,500.0,677.0],\"xaxis\":\"x\",\"y\":[0,0,0,0,0],\"yaxis\":\"y\",\"type\":\"scatter\"},{\"hovertemplate\":\"Booster Version Category=v1.1<br>Payload Mass (kg)=%{x}<br>class=%{y}<extra></extra>\",\"legendgroup\":\"v1.1\",\"marker\":{\"color\":\"#EF553B\",\"symbol\":\"circle\",\"line\":{\"color\":\"DarkSlateGrey\",\"width\":2},\"size\":12},\"mode\":\"markers\",\"name\":\"v1.1\",\"orientation\":\"v\",\"showlegend\":true,\"x\":[3170.0,3325.0,2296.0,1316.0,4535.0,4428.0,2216.0,2395.0,570.0,4159.0,1898.0,4707.0,1952.0],\"xaxis\":\"x\",\"y\":[0,0,0,0,0,0,0,0,0,0,0,0,1],\"yaxis\":\"y\",\"type\":\"scatter\"},{\"hovertemplate\":\"Booster Version Category=FT<br>Payload Mass (kg)=%{x}<br>class=%{y}<extra></extra>\",\"legendgroup\":\"FT\",\"marker\":{\"color\":\"#00cc96\",\"symbol\":\"circle\",\"line\":{\"color\":\"DarkSlateGrey\",\"width\":2},\"size\":12},\"mode\":\"markers\",\"name\":\"FT\",\"orientation\":\"v\",\"showlegend\":true,\"x\":[2034.0,5271.0,3136.0,4696.0,3100.0,3600.0,2257.0,4600.0],\"xaxis\":\"x\",\"y\":[1,0,1,1,1,0,1,1],\"yaxis\":\"y\",\"type\":\"scatter\"}],                        {\"template\":{\"data\":{\"bar\":[{\"error_x\":{\"color\":\"#2a3f5f\"},\"error_y\":{\"color\":\"#2a3f5f\"},\"marker\":{\"line\":{\"color\":\"#E5ECF6\",\"width\":0.5},\"pattern\":{\"fillmode\":\"overlay\",\"size\":10,\"solidity\":0.2}},\"type\":\"bar\"}],\"barpolar\":[{\"marker\":{\"line\":{\"color\":\"#E5ECF6\",\"width\":0.5},\"pattern\":{\"fillmode\":\"overlay\",\"size\":10,\"solidity\":0.2}},\"type\":\"barpolar\"}],\"carpet\":[{\"aaxis\":{\"endlinecolor\":\"#2a3f5f\",\"gridcolor\":\"white\",\"linecolor\":\"white\",\"minorgridcolor\":\"white\",\"startlinecolor\":\"#2a3f5f\"},\"baxis\":{\"endlinecolor\":\"#2a3f5f\",\"gridcolor\":\"white\",\"linecolor\":\"white\",\"minorgridcolor\":\"white\",\"startlinecolor\":\"#2a3f5f\"},\"type\":\"carpet\"}],\"choropleth\":[{\"colorbar\":{\"outlinewidth\":0,\"ticks\":\"\"},\"type\":\"choropleth\"}],\"contour\":[{\"colorbar\":{\"outlinewidth\":0,\"ticks\":\"\"},\"colorscale\":[[0.0,\"#0d0887\"],[0.1111111111111111,\"#46039f\"],[0.2222222222222222,\"#7201a8\"],[0.3333333333333333,\"#9c179e\"],[0.4444444444444444,\"#bd3786\"],[0.5555555555555556,\"#d8576b\"],[0.6666666666666666,\"#ed7953\"],[0.7777777777777778,\"#fb9f3a\"],[0.8888888888888888,\"#fdca26\"],[1.0,\"#f0f921\"]],\"type\":\"contour\"}],\"contourcarpet\":[{\"colorbar\":{\"outlinewidth\":0,\"ticks\":\"\"},\"type\":\"contourcarpet\"}],\"heatmap\":[{\"colorbar\":{\"outlinewidth\":0,\"ticks\":\"\"},\"colorscale\":[[0.0,\"#0d0887\"],[0.1111111111111111,\"#46039f\"],[0.2222222222222222,\"#7201a8\"],[0.3333333333333333,\"#9c179e\"],[0.4444444444444444,\"#bd3786\"],[0.5555555555555556,\"#d8576b\"],[0.6666666666666666,\"#ed7953\"],[0.7777777777777778,\"#fb9f3a\"],[0.8888888888888888,\"#fdca26\"],[1.0,\"#f0f921\"]],\"type\":\"heatmap\"}],\"heatmapgl\":[{\"colorbar\":{\"outlinewidth\":0,\"ticks\":\"\"},\"colorscale\":[[0.0,\"#0d0887\"],[0.1111111111111111,\"#46039f\"],[0.2222222222222222,\"#7201a8\"],[0.3333333333333333,\"#9c179e\"],[0.4444444444444444,\"#bd3786\"],[0.5555555555555556,\"#d8576b\"],[0.6666666666666666,\"#ed7953\"],[0.7777777777777778,\"#fb9f3a\"],[0.8888888888888888,\"#fdca26\"],[1.0,\"#f0f921\"]],\"type\":\"heatmapgl\"}],\"histogram\":[{\"marker\":{\"pattern\":{\"fillmode\":\"overlay\",\"size\":10,\"solidity\":0.2}},\"type\":\"histogram\"}],\"histogram2d\":[{\"colorbar\":{\"outlinewidth\":0,\"ticks\":\"\"},\"colorscale\":[[0.0,\"#0d0887\"],[0.1111111111111111,\"#46039f\"],[0.2222222222222222,\"#7201a8\"],[0.3333333333333333,\"#9c179e\"],[0.4444444444444444,\"#bd3786\"],[0.5555555555555556,\"#d8576b\"],[0.6666666666666666,\"#ed7953\"],[0.7777777777777778,\"#fb9f3a\"],[0.8888888888888888,\"#fdca26\"],[1.0,\"#f0f921\"]],\"type\":\"histogram2d\"}],\"histogram2dcontour\":[{\"colorbar\":{\"outlinewidth\":0,\"ticks\":\"\"},\"colorscale\":[[0.0,\"#0d0887\"],[0.1111111111111111,\"#46039f\"],[0.2222222222222222,\"#7201a8\"],[0.3333333333333333,\"#9c179e\"],[0.4444444444444444,\"#bd3786\"],[0.5555555555555556,\"#d8576b\"],[0.6666666666666666,\"#ed7953\"],[0.7777777777777778,\"#fb9f3a\"],[0.8888888888888888,\"#fdca26\"],[1.0,\"#f0f921\"]],\"type\":\"histogram2dcontour\"}],\"mesh3d\":[{\"colorbar\":{\"outlinewidth\":0,\"ticks\":\"\"},\"type\":\"mesh3d\"}],\"parcoords\":[{\"line\":{\"colorbar\":{\"outlinewidth\":0,\"ticks\":\"\"}},\"type\":\"parcoords\"}],\"pie\":[{\"automargin\":true,\"type\":\"pie\"}],\"scatter\":[{\"marker\":{\"colorbar\":{\"outlinewidth\":0,\"ticks\":\"\"}},\"type\":\"scatter\"}],\"scatter3d\":[{\"line\":{\"colorbar\":{\"outlinewidth\":0,\"ticks\":\"\"}},\"marker\":{\"colorbar\":{\"outlinewidth\":0,\"ticks\":\"\"}},\"type\":\"scatter3d\"}],\"scattercarpet\":[{\"marker\":{\"colorbar\":{\"outlinewidth\":0,\"ticks\":\"\"}},\"type\":\"scattercarpet\"}],\"scattergeo\":[{\"marker\":{\"colorbar\":{\"outlinewidth\":0,\"ticks\":\"\"}},\"type\":\"scattergeo\"}],\"scattergl\":[{\"marker\":{\"colorbar\":{\"outlinewidth\":0,\"ticks\":\"\"}},\"type\":\"scattergl\"}],\"scattermapbox\":[{\"marker\":{\"colorbar\":{\"outlinewidth\":0,\"ticks\":\"\"}},\"type\":\"scattermapbox\"}],\"scatterpolar\":[{\"marker\":{\"colorbar\":{\"outlinewidth\":0,\"ticks\":\"\"}},\"type\":\"scatterpolar\"}],\"scatterpolargl\":[{\"marker\":{\"colorbar\":{\"outlinewidth\":0,\"ticks\":\"\"}},\"type\":\"scatterpolargl\"}],\"scatterternary\":[{\"marker\":{\"colorbar\":{\"outlinewidth\":0,\"ticks\":\"\"}},\"type\":\"scatterternary\"}],\"surface\":[{\"colorbar\":{\"outlinewidth\":0,\"ticks\":\"\"},\"colorscale\":[[0.0,\"#0d0887\"],[0.1111111111111111,\"#46039f\"],[0.2222222222222222,\"#7201a8\"],[0.3333333333333333,\"#9c179e\"],[0.4444444444444444,\"#bd3786\"],[0.5555555555555556,\"#d8576b\"],[0.6666666666666666,\"#ed7953\"],[0.7777777777777778,\"#fb9f3a\"],[0.8888888888888888,\"#fdca26\"],[1.0,\"#f0f921\"]],\"type\":\"surface\"}],\"table\":[{\"cells\":{\"fill\":{\"color\":\"#EBF0F8\"},\"line\":{\"color\":\"white\"}},\"header\":{\"fill\":{\"color\":\"#C8D4E3\"},\"line\":{\"color\":\"white\"}},\"type\":\"table\"}]},\"layout\":{\"annotationdefaults\":{\"arrowcolor\":\"#2a3f5f\",\"arrowhead\":0,\"arrowwidth\":1},\"autotypenumbers\":\"strict\",\"coloraxis\":{\"colorbar\":{\"outlinewidth\":0,\"ticks\":\"\"}},\"colorscale\":{\"diverging\":[[0,\"#8e0152\"],[0.1,\"#c51b7d\"],[0.2,\"#de77ae\"],[0.3,\"#f1b6da\"],[0.4,\"#fde0ef\"],[0.5,\"#f7f7f7\"],[0.6,\"#e6f5d0\"],[0.7,\"#b8e186\"],[0.8,\"#7fbc41\"],[0.9,\"#4d9221\"],[1,\"#276419\"]],\"sequential\":[[0.0,\"#0d0887\"],[0.1111111111111111,\"#46039f\"],[0.2222222222222222,\"#7201a8\"],[0.3333333333333333,\"#9c179e\"],[0.4444444444444444,\"#bd3786\"],[0.5555555555555556,\"#d8576b\"],[0.6666666666666666,\"#ed7953\"],[0.7777777777777778,\"#fb9f3a\"],[0.8888888888888888,\"#fdca26\"],[1.0,\"#f0f921\"]],\"sequentialminus\":[[0.0,\"#0d0887\"],[0.1111111111111111,\"#46039f\"],[0.2222222222222222,\"#7201a8\"],[0.3333333333333333,\"#9c179e\"],[0.4444444444444444,\"#bd3786\"],[0.5555555555555556,\"#d8576b\"],[0.6666666666666666,\"#ed7953\"],[0.7777777777777778,\"#fb9f3a\"],[0.8888888888888888,\"#fdca26\"],[1.0,\"#f0f921\"]]},\"colorway\":[\"#636efa\",\"#EF553B\",\"#00cc96\",\"#ab63fa\",\"#FFA15A\",\"#19d3f3\",\"#FF6692\",\"#B6E880\",\"#FF97FF\",\"#FECB52\"],\"font\":{\"color\":\"#2a3f5f\"},\"geo\":{\"bgcolor\":\"white\",\"lakecolor\":\"white\",\"landcolor\":\"#E5ECF6\",\"showlakes\":true,\"showland\":true,\"subunitcolor\":\"white\"},\"hoverlabel\":{\"align\":\"left\"},\"hovermode\":\"closest\",\"mapbox\":{\"style\":\"light\"},\"paper_bgcolor\":\"white\",\"plot_bgcolor\":\"#E5ECF6\",\"polar\":{\"angularaxis\":{\"gridcolor\":\"white\",\"linecolor\":\"white\",\"ticks\":\"\"},\"bgcolor\":\"#E5ECF6\",\"radialaxis\":{\"gridcolor\":\"white\",\"linecolor\":\"white\",\"ticks\":\"\"}},\"scene\":{\"xaxis\":{\"backgroundcolor\":\"#E5ECF6\",\"gridcolor\":\"white\",\"gridwidth\":2,\"linecolor\":\"white\",\"showbackground\":true,\"ticks\":\"\",\"zerolinecolor\":\"white\"},\"yaxis\":{\"backgroundcolor\":\"#E5ECF6\",\"gridcolor\":\"white\",\"gridwidth\":2,\"linecolor\":\"white\",\"showbackground\":true,\"ticks\":\"\",\"zerolinecolor\":\"white\"},\"zaxis\":{\"backgroundcolor\":\"#E5ECF6\",\"gridcolor\":\"white\",\"gridwidth\":2,\"linecolor\":\"white\",\"showbackground\":true,\"ticks\":\"\",\"zerolinecolor\":\"white\"}},\"shapedefaults\":{\"line\":{\"color\":\"#2a3f5f\"}},\"ternary\":{\"aaxis\":{\"gridcolor\":\"white\",\"linecolor\":\"white\",\"ticks\":\"\"},\"baxis\":{\"gridcolor\":\"white\",\"linecolor\":\"white\",\"ticks\":\"\"},\"bgcolor\":\"#E5ECF6\",\"caxis\":{\"gridcolor\":\"white\",\"linecolor\":\"white\",\"ticks\":\"\"}},\"title\":{\"x\":0.05},\"xaxis\":{\"automargin\":true,\"gridcolor\":\"white\",\"linecolor\":\"white\",\"ticks\":\"\",\"title\":{\"standoff\":15},\"zerolinecolor\":\"white\",\"zerolinewidth\":2},\"yaxis\":{\"automargin\":true,\"gridcolor\":\"white\",\"linecolor\":\"white\",\"ticks\":\"\",\"title\":{\"standoff\":15},\"zerolinecolor\":\"white\",\"zerolinewidth\":2}}},\"xaxis\":{\"anchor\":\"y\",\"domain\":[0.0,1.0],\"title\":{\"text\":\"Payload Mass (kg)\"}},\"yaxis\":{\"anchor\":\"x\",\"domain\":[0.0,1.0],\"title\":{\"text\":\"class\"}},\"legend\":{\"title\":{\"text\":\"Booster Version Category\"},\"tracegroupgap\":0},\"title\":{\"text\":\"<b>Launch outcome v. payload mass for site CCAFS LC-40</b>\"}},                        {\"responsive\": true}                    ).then(function(){\n",
              "                            \n",
              "var gd = document.getElementById('e75fa5aa-123d-41fa-9f11-292ddde84c66');\n",
              "var x = new MutationObserver(function (mutations, observer) {{\n",
              "        var display = window.getComputedStyle(gd).display;\n",
              "        if (!display || display === 'none') {{\n",
              "            console.log([gd, 'removed!']);\n",
              "            Plotly.purge(gd);\n",
              "            observer.disconnect();\n",
              "        }}\n",
              "}});\n",
              "\n",
              "// Listen for the removal of the full notebook cells\n",
              "var notebookContainer = gd.closest('#notebook-container');\n",
              "if (notebookContainer) {{\n",
              "    x.observe(notebookContainer, {childList: true});\n",
              "}}\n",
              "\n",
              "// Listen for the clearing of the current output cell\n",
              "var outputEl = gd.closest('.output');\n",
              "if (outputEl) {{\n",
              "    x.observe(outputEl, {childList: true});\n",
              "}}\n",
              "\n",
              "                        })                };                            </script>        </div>\n",
              "</body>\n",
              "</html>"
            ]
          },
          "metadata": {}
        }
      ]
    },
    {
      "cell_type": "markdown",
      "source": "##    Dash application and Callback function",
      "metadata": {
        "id": "5Ldqb1UO70Vb"
      }
    },
    {
      "cell_type": "markdown",
      "source": "<span style=\"color:#0094cf;\"> **The development of the Dash application starts here.** </span> ",
      "metadata": {
        "id": "aJl9XFS470Vb"
      }
    },
    {
      "cell_type": "code",
      "source": "spacex_df['Launch Site'].unique()  # for building Dropdown",
      "metadata": {
        "colab": {
          "base_uri": "https://localhost:8080/"
        },
        "id": "ppDN147E70Vb",
        "outputId": "13f1f0f7-c6da-4e7b-ddf6-b0bd65a3ddc6"
      },
      "execution_count": null,
      "outputs": [
        {
          "output_type": "execute_result",
          "execution_count": 21,
          "data": {
            "text/plain": [
              "array(['CCAFS LC-40', 'VAFB SLC-4E', 'KSC LC-39A', 'CCAFS SLC-40'],\n",
              "      dtype=object)"
            ]
          },
          "metadata": {}
        }
      ]
    },
    {
      "cell_type": "code",
      "source": "# Create a dash application\n#app = dash.Dash(__name__)\n\n# Works on Google COLAB\napp = JupyterDash(__name__)\nJupyterDash.infer_jupyter_proxy_config()   \n\n\n\n# Create an app layout\napp.layout = html.Div(children=[html.H1('SpaceX Launch Records Dashboard',\n                                        style={'textAlign': 'center', 'color': '#503D36',\n                                               'font-size': 40}),\n                                # TASK 1: Add a dropdown list to enable Launch Site selection\n                                # The default select value is for ALL sites\n                                # dcc.Dropdown(id='site-dropdown',...)\n                                dcc.Dropdown(id='site-dropdown',\n                                             options=[\n                                                     {'label': 'All Sites', 'value': 'ALL'},\n                                                     {'label': 'CCAFS LC-40', 'value': 'CCAFS LC-40'},\n                                                     {'label': 'VAFB SLC-4E', 'value': 'VAFB SLC-4E'},\n                                                     {'label': 'KSC LC-39A', 'value': 'KSC LC-39A'},\n                                                     {'label': 'CCAFS SLC-40', 'value': 'CCAFS SLC-40'}\n                                                     ],\n                                        value='ALL',\n                                        placeholder='Select a Launch Site',\n                                        searchable=True\n                                             ),\n                                \n                                html.Br(),\n\n                                # TASK 2: Add a pie chart to show the total successful launches count for all sites\n                                # If a specific launch site was selected, show the Success vs. Failed counts for the site\n                                html.Div(dcc.Graph(id='success-pie-chart')),\n                                html.Br(),\n\n                                html.P(html.Strong(\"Range of Payload mass (kg):\")),\n                                # TASK 3: Add a slider to select payload range\n                                #dcc.RangeSlider(id='payload-slider',...)\n                                dcc.RangeSlider(id='payload-slider', \n                                        min=0, max=10000, step=1000,\n                                       # marks={0: '0', 10000: '10000'}, Marks: In Dash >= 2.1, they are autogenerated if not explicitly provided or turned off.\n                                    # marks={ 0: {'label': '0', 'style': {'color': '#77b0b1'}},\n                                    #           10000: {'label': '10000', 'style': {'color': '#f50'}}   },\n                                        value=[min_payload, max_payload]),\n\n\n                                # TASK 4: Add a scatter chart to show the correlation between payload and launch success\n                                html.Div(dcc.Graph(id='success-payload-scatter-chart')),\n                                ])\n\n# TASK 2:\n# Add a callback function for `site-dropdown` as input, `success-pie-chart` as output\n@app.callback( Output(component_id='success-pie-chart', component_property='figure'),\n              Input(component_id='site-dropdown', component_property='value') )\n\ndef get_pie_chart(entered_site):\n    filtered_df = spacex_df\n    if entered_site == 'ALL':\n        fig = px.pie(filtered_df, values='class', \n        names='Launch Site', \n        title='<b>Share of Successful Launches by Site (%)</b>')\n        return fig\n    else:\n        filtered_df=spacex_df[spacex_df['Launch Site']== entered_site]\n        filtered_df=filtered_df.groupby(['Launch Site','class']).size().reset_index(name='class count')\n        \n        failure_count= filtered_df['class count'][0]\n        success_count= filtered_df['class count'][1]\n        total_number_launch=filtered_df['class count'].sum()\n        \n        fig=px.pie( filtered_df,values=[failure_count, success_count],\n                   names=['<b>Failure</b>', '<b>Success</b>'], color=['Failure', 'Success'], \n                   color_discrete_map={'Failure':px.colors.qualitative.G10[1], 'Success':px.colors.qualitative.G10[5]}, \n               title=f\"<b>Launch attempts outcome (%) for site {entered_site}</b><br>Total number of attempts= {total_number_launch}<br>Number of success= {success_count}<br>Number of failures= {failure_count}\"  )\n        return fig     \n \n\n# Task 4  Is there a bug above ? .. \n# Add a callback function for `site-dropdown` and `payload-slider` as inputs, `success-payload-scatter-chart` as output    \n@app.callback(Output(component_id='success-payload-scatter-chart',component_property='figure'),\n                [Input(component_id='site-dropdown',component_property='value'),\n                Input(component_id='payload-slider',component_property='value')])\n\ndef scatter(entered_site,payload):\n    filtered_df = spacex_df[spacex_df['Payload Mass (kg)'].between(payload[0],payload[1])]\n\n    \n    if entered_site=='ALL':\n        fig=px.scatter(filtered_df,x='Payload Mass (kg)',y='class',color='Booster Version Category',title='<b>Launch outcome v. Payload mass for all sites</b>')\n        fig.update_layout(\n            xaxis_title=\"<b>Payload Mass (kg)</b>\",\n            yaxis_title=\"<b>Class: Failure=0, Success=1</b>\",\n            legend_title=\"<b>Booster Version Category</b>\")\n        fig.update_traces(marker=dict(size=12,\n                              line=dict(width=2,\n                                        color='DarkSlateGrey')),\n                  selector=dict(mode='markers'))\n        \n        return fig\n    else:\n        fig=px.scatter(filtered_df[filtered_df['Launch Site']==entered_site],x='Payload Mass (kg)',y='class',color='Booster Version Category',\n                       title=f\"<b>Launch outcome v. Payload mass for site {entered_site} </b>\")\n        \n        \n        fig.update_layout(\n        xaxis_title=\"<b>Payload Mass (kg)</b>\",\n        yaxis_title=\"<b>Class: Failure=0, Success=1</b>\",\n        legend_title=\"<b>Booster Version Category</b>\")\n        fig.update_traces(marker=dict(size=12,\n                              line=dict(width=2,\n                                        color='DarkSlateGrey')),\n                  selector=dict(mode='markers'))\n        \n        return fig\n\n# Run the app\nif __name__ == '__main__':\n    #app.run_server()\n\n    #app.run_server(host='127.0.0.1', port=8050, debug=True)\n    #app.run_server(mode='inline')\n    # REVIEW8: Adding dev_tools_ui=False, dev_tools_props_check=False can prevent error appearing before calling callback function\n    #app.run_server(mode=\"inline\", host=\"localhost\", debug=False, dev_tools_ui=False, dev_tools_props_check=False)\n    #app.run_server( port=8070   , host=\"localhost\", debug=False, dev_tools_ui=False, dev_tools_props_check=False) \n    app.run_server(mode=\"external\",  port=8070   , host=\"localhost\", debug=False, dev_tools_ui=False, dev_tools_props_check=False) \n    #app.run_server( port=8000   , host=\"localhost\", debug=False, dev_tools_ui=False, dev_tools_props_check=False) \n    #app.run_server('jupyterlab')\n    #app.run_server(mode='external',port=8090)\n    #app.run_server(mode=\"external\")\n    #app.run_server(debug=True)",
      "metadata": {
        "colab": {
          "base_uri": "https://localhost:8080/",
          "height": 86
        },
        "id": "vMl37HmP70Vb",
        "outputId": "c6df64f3-e99f-46d6-cb6c-2ed9850d9e3e"
      },
      "execution_count": null,
      "outputs": [
        {
          "output_type": "stream",
          "name": "stderr",
          "text": " * Running on http://localhost:8070 (Press CTRL+C to quit)\n\n127.0.0.1 - - [27/Jun/2022 17:25:32] \"GET /_alive_e1b9a41c-6f70-4527-a281-8ae1d012a721 HTTP/1.1\" 200 -\n"
        },
        {
          "output_type": "stream",
          "name": "stdout",
          "text": "Dash app running on:\n"
        },
        {
          "output_type": "display_data",
          "data": {
            "text/plain": [
              "<IPython.core.display.Javascript object>"
            ],
            "application/javascript": [
              "(async (port, path, text, element) => {\n",
              "    if (!google.colab.kernel.accessAllowed) {\n",
              "      return;\n",
              "    }\n",
              "    element.appendChild(document.createTextNode(''));\n",
              "    const url = await google.colab.kernel.proxyPort(port);\n",
              "    const anchor = document.createElement('a');\n",
              "    anchor.href = new URL(path, url).toString();\n",
              "    anchor.target = '_blank';\n",
              "    anchor.setAttribute('data-href', url + path);\n",
              "    anchor.textContent = text;\n",
              "    element.appendChild(anchor);\n",
              "  })(8070, \"/\", \"http://localhost:8070/\", window.element)"
            ]
          },
          "metadata": {}
        }
      ]
    },
    {
      "cell_type": "code",
      "source": "#!pip install  watermark",
      "metadata": {
        "id": "D5fQNzdGDS6A"
      },
      "execution_count": null,
      "outputs": []
    },
    {
      "cell_type": "code",
      "source": "#%reload_ext watermark\n# python, ipython, packages, and machine characteristics\n#%watermark -v -m -p wget,pandas,numpy,altair\n#%watermark --iversions\n# date\n#print (\" \")\n#%watermark -u -n -t -z ",
      "metadata": {
        "id": "P2MxneOgDTKt"
      },
      "execution_count": null,
      "outputs": []
    },
    {
      "cell_type": "code",
      "source": "",
      "metadata": {
        "id": "s2HxDXeIDTTk"
      },
      "execution_count": null,
      "outputs": []
    },
    {
      "cell_type": "markdown",
      "source": "##    Report",
      "metadata": {
        "id": "y2B1D6ak70Ve"
      }
    },
    {
      "cell_type": "markdown",
      "source": "After visual analysis using the dashboard, you should be able to obtain some insights to answer the following five questions:\n\n1. Which site has the largest successful launches? \n\n<span style=\"color:#0094cf;\">**KSLC-39A:  10 successful launches**</span>\n\n\n2. Which site has the highest launch success rate? \n\n<span style=\"color:#0094cf;\">**KSLC-39A:  ~77% or 10 successful launches out of 13**</span>\n\n\n3. Which payload range(s) has the highest launch success rate? \n\n<span style=\"color:#0094cf;\">**Most successful launches have a payload mass in an interval [360-5300] kg**</span>\n\n\n4. Which payload range(s) has the lowest launch success rate? \n\n<span style=\"color:#0094cf;\">**Above payload mass= 5400 Kg, there is only a single succesful launch, with a 9600 kg payload**</span>\n\n5. Which F9 Booster version (v1.0, v1.1, FT, B4, B5, etc.) has the highest launch success rate?\n\n<span style=\"color:#0094cf;\"> **Best booster version: FT: 15 successful launches out of 23 launch attempts.  ~ 65%**<br>\n**Second best: B4 = 6/11  about ~55%** </span>\n\n\nEstimated time needed: 90 minutes\n   \n    \n    \n ",
      "metadata": {
        "id": "tgJ4ru-K70Vg"
      }
    },
    {
      "cell_type": "markdown",
      "source": "#### TASK 2: Add a callback function to render success-pie-chart based on selected site dropdown\nThe general idea of this callback function is to get the selected launch site from site-dropdown and render a pie chart visualizing launch success counts.\n\nDash callback function is a type of Python function which will be automatically called by Dash whenever receiving an input component updates, such as a click or dropdown selecting event.\n\nIf you need to refresh your memory about Plotly Dash callback functions, you may refer to the lab you have learned before:\n\nPlotly Dash Lab\n\nLet's add a callback function in spacex_dash_app.py including the following application logic:\n\n* Input is set to be the site-dropdown dropdown, i.e., Input(component_id='site-dropdown', component_property='value')\n* Output to be the graph with id success-pie-chart, i.e., Output(component_id='success-pie-chart', component_property='figure')\n* A If-Else statement to check if ALL sites were selected or just a specific launch site was selected\n    * If ALL sites are selected, we will use all rows in the dataframe spacex_df to render and return a pie chart graph to show the total success launches (i.e., the total count of class column)\n    * If a specific launch site is selected, you need to filter the dataframe spacex_df first in order\n\nto include the only data for the selected site. Then, render and return a pie chart graph to show the success (class=1) count and failed (class=0) count for the selected site. <br>\nHere is an example of a callback function:",
      "metadata": {
        "id": "OI06ESuo70Vg"
      }
    },
    {
      "cell_type": "code",
      "source": "# Function decorator to specify function input and output\n#@app.callback(Output(component_id='success-pie-chart', component_property='figure'),\n#              Input(component_id='site-dropdown', component_property='value'))\n#def get_pie_chart(entered_site):\n#    filtered_df = spacex_df\n#    if entered_site == 'ALL':\n#        fig = px.pie(data, values='class', \n#        names='pie chart names', \n#        title='title')\n#        return fig\n#    else:\n        # return the outcomes piechart for a selected site",
      "metadata": {
        "id": "qneCjR2A70Vh"
      },
      "execution_count": null,
      "outputs": []
    },
    {
      "cell_type": "markdown",
      "source": "The rendered pie chart should look like the following screenshots:\n\n* Pie chart for all sites are selected\n\n\n<img src=\"https://cf-courses-data.s3.us.cloud-object-storage.appdomain.cloud/IBM-DS0321EN-SkillsNetwork/labs/module_3/images/pie-chart-all.PNG\" width=\"1500\" height=\"500\">\n\n* Pie chart for is selected\n\n<img src=\"https://cf-courses-data.s3.us.cloud-object-storage.appdomain.cloud/IBM-DS0321EN-SkillsNetwork/labs/module_3/images/pie-chart-one.PNG\" width=\"1500\" height=\"500\">\n\n\n",
      "metadata": {
        "id": "wvdJ0poZ70Vh"
      }
    },
    {
      "cell_type": "markdown",
      "source": "",
      "metadata": {
        "id": "tuZJ4Ezs70Vh"
      }
    },
    {
      "cell_type": "markdown",
      "source": "#### TASK 3: Add a Range Slider to Select Payload\nNext, we want to find if variable payload is correlated to mission outcome. From a dashboard point of view, we want to be able to easily select different payload range and see if we can identify some visual patterns.\n\nFind and complete a commented dcc.RangeSlider(id='payload-slider',...) input with the following attribute:\n\n* id to be payload-slider\n* min indicating the slider starting point, we set its value to be 0 (Kg)\n* max indicating the slider ending point to, we set its value to be 10000 (Kg)\n* step indicating the slider interval on the slider, we set its value to be 1000 (Kg)\n* value indicating the current selected range, we could set it to be min_payload and max_payload\n\nHere is an example of RangeSlider:",
      "metadata": {
        "id": "DiueJgEs70Vh"
      }
    },
    {
      "cell_type": "code",
      "source": "#dcc.RangeSlider(id='id',\n#                min=0, max=10000, step=1000,\n#                marks={0: '0',\n#                       100: '100'},\n#                value=[min_value, max_value])",
      "metadata": {
        "id": "SocsG5sp70Vh"
      },
      "execution_count": null,
      "outputs": []
    },
    {
      "cell_type": "markdown",
      "source": "#### TASK 4: Add a callback function to render the success-payload-scatter-chart scatter plot\nNext, we want to plot a scatter plot with the x axis to be the payload and the y axis to be the launch outcome (i.e., class column). As such, we can visually observe how payload may be correlated with mission outcomes for selected site(s).\n\nIn addition, we want to color-label the Booster version on each scatter point so that we may observe mission outcomes with different boosters.\n\nNow, let's add a call function including the following application logic:\n\nInput to be [Input(component_id='site-dropdown', component_property='value'), Input(component_id=\"payload-slider\", component_property=\"value\")] Note that we have two input components, one to receive selected launch site and another to receive selected payload range\nOutput to be Output(component_id='success-payload-scatter-chart', component_property='figure')\nA If-Else statement to check if ALL sites were selected or just a specific launch site was selected\nIf ALL sites are selected, render a scatter plot to display all values for variable Payload Mass (kg) and variable class.\nIn addition, the point color needs to be set to the booster version i.e., color=\"Booster Version Category\"\nIf a specific launch site is selected, you need to filter the spacex_df first, and render a scatter chart to show\nvalues Payload Mass (kg) and class for the selected site, and color-label the point using Boosster Version Category likewise.\nYou rendered scatter point should look like the following screenshot:\n\n<img src=\"https://cf-courses-data.s3.us.cloud-object-storage.appdomain.cloud/IBM-DS0321EN-SkillsNetwork/labs/module_3/images/scatter-point.PNG\" width=\"1500\" height=\"500\">\n\n\n \n",
      "metadata": {
        "id": "OGcgqXFP70Vi"
      }
    },
    {
      "cell_type": "code",
      "source": "",
      "metadata": {
        "id": "di3JY9Wi70Vi"
      },
      "execution_count": null,
      "outputs": []
    },
    {
      "cell_type": "code",
      "source": "",
      "metadata": {
        "id": "-YkD7ZgK70Vi"
      },
      "execution_count": null,
      "outputs": []
    },
    {
      "cell_type": "markdown",
      "source": "# Import required libraries\nimport pandas as pd\nimport dash\nfrom dash import dcc\nfrom dash import html\nfrom dash.dependencies import Input, Output, State\n#from jupyter_dash import JupyterDash\nimport plotly.graph_objects as go\nimport plotly.express as px\nfrom dash import no_update",
      "metadata": {
        "id": "-gx3mGbP70Vi"
      }
    },
    {
      "cell_type": "markdown",
      "source": "from jupyter_dash.comms import _send_jupyter_config_comm_request\n_send_jupyter_config_comm_request()",
      "metadata": {
        "id": "O_M7hGMd70Vi"
      }
    },
    {
      "cell_type": "markdown",
      "source": "from jupyter_dash import JupyterDash",
      "metadata": {
        "id": "Qr5r26s570Vj"
      }
    },
    {
      "cell_type": "markdown",
      "source": "#### For \"requirements.txt\" if we run MyBinder in GitHub",
      "metadata": {
        "id": "UQXejAP370Vj"
      }
    },
    {
      "cell_type": "code",
      "source": "#!pip install  watermark",
      "metadata": {
        "id": "0MEjNWD970Vj"
      },
      "execution_count": null,
      "outputs": []
    },
    {
      "cell_type": "code",
      "source": "#%reload_ext watermark\n\n# python, ipython, packages, and machine characteristics\n#%watermark -v -m -p wget,pandas,numpy,altair\n#%watermark --iversions\n# date\n#print (\" \")\n#%watermark -u -n -t -z \n",
      "metadata": {
        "id": "jRkPHYP470Vk"
      },
      "execution_count": null,
      "outputs": []
    },
    {
      "cell_type": "code",
      "source": "",
      "metadata": {
        "id": "APorLfPQ70Vk"
      },
      "execution_count": null,
      "outputs": []
    },
    {
      "cell_type": "code",
      "source": "",
      "metadata": {
        "id": "8lR99cGu70Vk"
      },
      "execution_count": null,
      "outputs": []
    },
    {
      "cell_type": "code",
      "source": "",
      "metadata": {
        "id": "YJ72SZt870Vk"
      },
      "execution_count": null,
      "outputs": []
    },
    {
      "cell_type": "code",
      "source": "",
      "metadata": {
        "id": "ofSOAA-v70Vk"
      },
      "execution_count": null,
      "outputs": []
    },
    {
      "cell_type": "code",
      "source": "",
      "metadata": {
        "id": "WxzWN0LL70Vk"
      },
      "execution_count": null,
      "outputs": []
    },
    {
      "cell_type": "markdown",
      "source": "## Plotly Dash Reference\n### Dropdown (input) component\nRefer here for more details about dcc.Dropdown()\n\n### Range slider (input) component\nRefer here for more details about dcc.RangeSlider()\n\n### Pie chart (output) component\nRefer here for more details about plotly pie charts\n\n### Scatter chart (output) component\nRefer here for more details about plotly scatter charts",
      "metadata": {
        "id": "U-jYVvBn70Vk"
      }
    },
    {
      "cell_type": "markdown",
      "source": "## Summary\n\nCongratulations for completing your dash and plotly assignment.\n\nMore information about the libraries can be found [here](https://dash.plotly.com/?utm_medium=Exinfluencer&utm_source=Exinfluencer&utm_content=000026UJ&utm_term=10006555&utm_id=NA-SkillsNetwork-Channel-SkillsNetworkCoursesIBMDeveloperSkillsNetworkDV0101ENSkillsNetwork20297740-2021-01-01)\n",
      "metadata": {
        "id": "yd1X4wUW70Vl"
      }
    },
    {
      "cell_type": "markdown",
      "source": "## Author\n\nYan Luo\n\n## Other contributor(s)\n\nJoseph Santarcangelo\n",
      "metadata": {
        "id": "QUfB9RUH70Vl"
      }
    },
    {
      "cell_type": "markdown",
      "source": "## Changelog\n\n| Date       | Version | Changed by       | Change Description              |\n|------------|---------|------------------|---------------------------------|\n| 03-09-2021 | 1.1     | Lakshmi Holla    | Added a note.                   |\n| 06-01-2021 | 1.0     | Yan              | Initial version created         |\n",
      "metadata": {
        "id": "GXzl8z1870Vm"
      }
    },
    {
      "cell_type": "markdown",
      "source": "## <h3 align=\"center\"> © IBM Corporation 2021. All rights reserved. <h3/>\n",
      "metadata": {
        "id": "CDyOVqG_70Vm"
      }
    }
  ]
}